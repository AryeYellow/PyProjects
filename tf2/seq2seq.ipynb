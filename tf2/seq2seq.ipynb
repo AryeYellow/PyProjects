{
 "cells": [
  {
   "cell_type": "markdown",
   "metadata": {},
   "source": [
    "# sequence to sequence\n",
    "https://blog.csdn.net/Yellow_python/article/details/87824778"
   ]
  },
  {
   "cell_type": "code",
   "execution_count": 1,
   "metadata": {},
   "outputs": [],
   "source": [
    "from warnings import filterwarnings\n",
    "filterwarnings('ignore')  # 不打印警告\n",
    "import numpy as np, matplotlib.pyplot as mp\n",
    "%matplotlib inline\n",
    "from tensorflow.python.keras.utils import to_categorical\n",
    "from tensorflow.python.keras.models import Model\n",
    "from tensorflow.python.keras.layers import Dense, Input, LSTM"
   ]
  },
  {
   "cell_type": "markdown",
   "metadata": {},
   "source": [
    "## 配置"
   ]
  },
  {
   "cell_type": "code",
   "execution_count": 2,
   "metadata": {},
   "outputs": [],
   "source": [
    "units = 200  # LSTM神经元数量\n",
    "len_input = 7  # 输入序列长度（输出序列长度=16-7=9）\n",
    "epochs = 1000"
   ]
  },
  {
   "cell_type": "markdown",
   "metadata": {},
   "source": [
    "## 语料"
   ]
  },
  {
   "cell_type": "code",
   "execution_count": 3,
   "metadata": {},
   "outputs": [],
   "source": [
    "seqs = \"\"\"\n",
    "《长恨歌》——白居易\n",
    "汉皇重色思倾国，御宇多年求不得。\n",
    "杨家有女初长成，养在深闺人未识。\n",
    "天生丽质难自弃，一朝选在君王侧。\n",
    "回眸一笑百媚生，六宫粉黛无颜色。\n",
    "春寒赐浴华清池，温泉水滑洗凝脂。\n",
    "侍儿扶起娇无力，始是新承恩泽时。\n",
    "云鬓花颜金步摇，芙蓉帐暖度春宵。\n",
    "春宵苦短日高起，从此君王不早朝。\n",
    "承欢侍宴无闲暇，春从春游夜专夜。\n",
    "后宫佳丽三千人，三千宠爱在一身。\n",
    "金屋妆成娇侍夜，玉楼宴罢醉和春。\n",
    "姊妹弟兄皆列土，可怜光彩生门户。\n",
    "遂令天下父母心，不重生男重生女。\n",
    "骊宫高处入青云，仙乐风飘处处闻。\n",
    "缓歌慢舞凝丝竹，尽日君王看不足。\n",
    "渔阳鼙鼓动地来，惊破霓裳羽衣曲。\n",
    "九重城阙烟尘生，千乘万骑西南行。\n",
    "翠华摇摇行复止，西出都门百余里。\n",
    "六军不发无奈何，宛转蛾眉马前死。\n",
    "花钿委地无人收，翠翘金雀玉搔头。\n",
    "君王掩面救不得，回看血泪相和流。\n",
    "黄埃散漫风萧索，云栈萦纡登剑阁。\n",
    "峨嵋山下少人行，旌旗无光日色薄。\n",
    "蜀江水碧蜀山青，圣主朝朝暮暮情。\n",
    "行宫见月伤心色，夜雨闻铃肠断声。\n",
    "天旋地转回龙驭，到此踌躇不能去。\n",
    "马嵬坡下泥土中，不见玉颜空死处。\n",
    "君臣相顾尽沾衣，东望都门信马归。\n",
    "归来池苑皆依旧，太液芙蓉未央柳。\n",
    "芙蓉如面柳如眉，对此如何不泪垂。\n",
    "春风桃李花开日，秋雨梧桐叶落时。\n",
    "西宫南内多秋草，落叶满阶红不扫。\n",
    "梨园弟子白发新，椒房阿监青娥老。\n",
    "夕殿萤飞思悄然，孤灯挑尽未成眠。\n",
    "迟迟钟鼓初长夜，耿耿星河欲曙天。\n",
    "鸳鸯瓦冷霜华重，翡翠衾寒谁与共。\n",
    "悠悠生死别经年，魂魄不曾来入梦。\n",
    "临邛道士鸿都客，能以精诚致魂魄。\n",
    "为感君王辗转思，遂教方士殷勤觅。\n",
    "排空驭气奔如电，升天入地求之遍。\n",
    "上穷碧落下黄泉，两处茫茫皆不见。\n",
    "忽闻海上有仙山，山在虚无缥渺间。\n",
    "楼阁玲珑五云起，其中绰约多仙子。\n",
    "中有一人字太真，雪肤花貌参差是。\n",
    "金阙西厢叩玉扃，转教小玉报双成。\n",
    "闻道汉家天子使，九华帐里梦魂惊。\n",
    "揽衣推枕起徘徊，珠箔银屏迤逦开。\n",
    "云鬓半偏新睡觉，花冠不整下堂来。\n",
    "风吹仙袂飘飖举，犹似霓裳羽衣舞。\n",
    "玉容寂寞泪阑干，梨花一枝春带雨。\n",
    "含情凝睇谢君王，一别音容两渺茫。\n",
    "昭阳殿里恩爱绝，蓬莱宫中日月长。\n",
    "回头下望人寰处，不见长安见尘雾。\n",
    "惟将旧物表深情，钿合金钗寄将去。\n",
    "钗留一股合一扇，钗擘黄金合分钿。\n",
    "但教心似金钿坚，天上人间会相见。\n",
    "临别殷勤重寄词，词中有誓两心知。\n",
    "七月七日长生殿，夜半无人私语时。\n",
    "在天愿作比翼鸟，在地愿为连理枝。\n",
    "天长地久有时尽，此恨绵绵无绝期。\n",
    "\"\"\".replace('《长恨歌》——白居易', '').strip().split('\\n')"
   ]
  },
  {
   "cell_type": "markdown",
   "metadata": {},
   "source": [
    "## 构建序列和字库"
   ]
  },
  {
   "cell_type": "code",
   "execution_count": 4,
   "metadata": {},
   "outputs": [
    {
     "name": "stdout",
     "output_type": "stream",
     "text": [
      "字库量（输入） 291 字库量（输出） 292\n"
     ]
    }
   ],
   "source": [
    "seqs_input, seqs_output = [], []  # 输入、输出序列\n",
    "chr_set_input, chr_set_output = set(), set()  # 字库\n",
    "for seq in seqs:\n",
    "    inputs, outputs = seq[:len_input], seq[len_input:]\n",
    "    seqs_input.append(inputs)\n",
    "    seqs_output.append(outputs)\n",
    "    chr_set_input |= set(inputs)\n",
    "    chr_set_output |= set(outputs)\n",
    "num_classes_input = len(chr_set_input)\n",
    "num_classes_output = len(chr_set_output)\n",
    "print('字库量（输入）', num_classes_input, '字库量（输出）', num_classes_output)"
   ]
  },
  {
   "cell_type": "markdown",
   "metadata": {},
   "source": [
    "## 构建字符和索引间的映射"
   ]
  },
  {
   "cell_type": "code",
   "execution_count": 5,
   "metadata": {},
   "outputs": [],
   "source": [
    "chr2id_input = {c: i for i, c in enumerate(chr_set_input)}\n",
    "chr2id_output = {c: i for i, c in enumerate(chr_set_output)}\n",
    "id2chr_output = {i: c for c, i in chr2id_output.items()}\n",
    "id_start = chr2id_output['，']  # 起点ID\n",
    "id_end = chr2id_output['。']  # 终点ID"
   ]
  },
  {
   "cell_type": "markdown",
   "metadata": {},
   "source": [
    "## 构建输入层和输出层"
   ]
  },
  {
   "cell_type": "code",
   "execution_count": 6,
   "metadata": {},
   "outputs": [
    {
     "name": "stdout",
     "output_type": "stream",
     "text": [
      "输入维度 (60, 7, 291) (60, 8, 292) 输出维度 (60, 8, 292)\n"
     ]
    }
   ],
   "source": [
    "# 字符→ID\n",
    "x_encoder = [[chr2id_input[c] for c in chrs] for chrs in seqs_input]\n",
    "x_decoder = [[chr2id_output[c] for c in chrs[:-1]] for chrs in seqs_output]  # 起点+序列\n",
    "y = [[chr2id_output[c] for c in chrs[1:]] for chrs in seqs_output]  # 序列+终点\n",
    "# 独热编码\n",
    "x_encoder = to_categorical(x_encoder, num_classes=num_classes_input)\n",
    "x_decoder = to_categorical(x_decoder, num_classes=num_classes_output)\n",
    "y = to_categorical(y, num_classes=num_classes_output)\n",
    "print('输入维度', x_encoder.shape, x_decoder.shape, '输出维度', y.shape)"
   ]
  },
  {
   "cell_type": "markdown",
   "metadata": {},
   "source": [
    "## 创建联合模型"
   ]
  },
  {
   "cell_type": "code",
   "execution_count": 7,
   "metadata": {},
   "outputs": [],
   "source": [
    "# 编码器\n",
    "encoder_input = Input(shape=(None, num_classes_input))  # 编码器输入层\n",
    "encoder_lstm = LSTM(units, return_state=True)  # 编码器LSTM层\n",
    "_, encoder_h, encoder_c = encoder_lstm(encoder_input)  # 编码器LSTM输出\n",
    "model_encoder = Model(encoder_input, [encoder_h, encoder_c])  # 【编码器模型】\n",
    "# 解码器\n",
    "decoder_input = Input(shape=(None, num_classes_output))  # 解码器输入层\n",
    "decoder_lstm = LSTM(units, return_sequences=True, return_state=True)  # 解码器LSTM层\n",
    "decoder_lstm_output, _, _ = decoder_lstm(\n",
    "    decoder_input, initial_state=[encoder_h, encoder_c])  # 解码器LSTM输出\n",
    "decoder_softmax = Dense(num_classes_output, activation='softmax')  # 解码器softmax层\n",
    "decoder_output = decoder_softmax(decoder_lstm_output)  # 解码器输出\n",
    "# 联合\n",
    "model = Model([encoder_input, decoder_input], decoder_output)  # 【联合模型】\n",
    "model.compile('adam', 'categorical_crossentropy')\n",
    "history = model.fit([x_encoder, x_decoder], y, epochs=epochs, verbose=0)"
   ]
  },
  {
   "cell_type": "code",
   "execution_count": 8,
   "metadata": {},
   "outputs": [
    {
     "data": {
      "image/png": "[encoded data removed]",
      "text/plain": [
       "<Figure size 432x288 with 1 Axes>"
      ]
     },
     "metadata": {},
     "output_type": "display_data"
    }
   ],
   "source": [
    "mp.plot(range(epochs), history.history['loss'])\n",
    "mp.show()"
   ]
  },
  {
   "cell_type": "markdown",
   "metadata": {},
   "source": [
    "## 创建解码模型"
   ]
  },
  {
   "cell_type": "code",
   "execution_count": 9,
   "metadata": {},
   "outputs": [],
   "source": [
    "decoder_h_input = Input(shape=(units,))  # 解码器状态输入层h\n",
    "decoder_c_input = Input(shape=(units,))  # 解码器状态输入层c\n",
    "decoder_lstm_output, decoder_h, decoder_c = decoder_lstm(\n",
    "    decoder_input, initial_state=[decoder_h_input, decoder_c_input])  # 解码器LSTM输出\n",
    "decoder_output = decoder_softmax(decoder_lstm_output)  # 解码器输出\n",
    "model_decoder = Model([decoder_input, decoder_h_input, decoder_c_input],\n",
    "                      [decoder_output, decoder_h, decoder_c])  # 【解码器模型】"
   ]
  },
  {
   "cell_type": "markdown",
   "metadata": {},
   "source": [
    "## 序列生成序列"
   ]
  },
  {
   "cell_type": "code",
   "execution_count": 10,
   "metadata": {},
   "outputs": [],
   "source": [
    "def seq2seq(x_encoder_pred):\n",
    "    h, c = model_encoder.predict(x_encoder_pred)\n",
    "    id_pred = id_start\n",
    "    seq = ''\n",
    "    while id_pred != id_end:\n",
    "        y_pred = to_categorical([[[id_pred]]], num_classes_output)\n",
    "        output, h, c = model_decoder.predict([y_pred, h, c])\n",
    "        id_pred = np.argmax(output[0])\n",
    "        seq += id2chr_output[id_pred]\n",
    "    return seq[:-1]"
   ]
  },
  {
   "cell_type": "markdown",
   "metadata": {},
   "source": [
    "## 模型评估"
   ]
  },
  {
   "cell_type": "code",
   "execution_count": 12,
   "metadata": {},
   "outputs": [
    {
     "name": "stdout",
     "output_type": "stream",
     "text": [
      "原输入输出：\u001b[034m汉皇重色思倾国，御宇多年求不得。\u001b[0m 模型输出：\u001b[034m御宇多年求不得\u001b[0m\n",
      "原输入输出：\u001b[034m杨家有女初长成，养在深闺人未识。\u001b[0m 模型输出：\u001b[034m养在深闺人未识\u001b[0m\n",
      "原输入输出：\u001b[034m天生丽质难自弃，一朝选在君王侧。\u001b[0m 模型输出：\u001b[034m一朝选在君王侧\u001b[0m\n",
      "原输入输出：\u001b[034m回眸一笑百媚生，六宫粉黛无颜色。\u001b[0m 模型输出：\u001b[034m六宫粉黛无颜色\u001b[0m\n",
      "原输入输出：\u001b[034m春寒赐浴华清池，温泉水滑洗凝脂。\u001b[0m 模型输出：\u001b[034m温泉水滑洗凝脂\u001b[0m\n",
      "原输入输出：\u001b[034m侍儿扶起娇无力，始是新承恩泽时。\u001b[0m 模型输出：\u001b[034m始是新承恩泽时\u001b[0m\n",
      "原输入输出：\u001b[034m云鬓花颜金步摇，芙蓉帐暖度春宵。\u001b[0m 模型输出：\u001b[034m芙蓉帐暖度春宵\u001b[0m\n",
      "原输入输出：\u001b[034m春宵苦短日高起，从此君王不早朝。\u001b[0m 模型输出：\u001b[034m从此君王不早朝\u001b[0m\n",
      "原输入输出：\u001b[034m承欢侍宴无闲暇，春从春游夜专夜。\u001b[0m 模型输出：\u001b[034m春从春游夜专夜\u001b[0m\n",
      "原输入输出：\u001b[034m后宫佳丽三千人，三千宠爱在一身。\u001b[0m 模型输出：\u001b[034m三千宠爱在一身\u001b[0m\n",
      "原输入输出：\u001b[034m金屋妆成娇侍夜，玉楼宴罢醉和春。\u001b[0m 模型输出：\u001b[034m玉楼宴罢醉和春\u001b[0m\n",
      "原输入输出：\u001b[034m姊妹弟兄皆列土，可怜光彩生门户。\u001b[0m 模型输出：\u001b[034m可怜光彩生门户\u001b[0m\n",
      "原输入输出：\u001b[034m遂令天下父母心，不重生男重生女。\u001b[0m 模型输出：\u001b[034m不重生男重生女\u001b[0m\n",
      "原输入输出：\u001b[034m骊宫高处入青云，仙乐风飘处处闻。\u001b[0m 模型输出：\u001b[034m仙乐风飘处处闻\u001b[0m\n",
      "原输入输出：\u001b[034m缓歌慢舞凝丝竹，尽日君王看不足。\u001b[0m 模型输出：\u001b[034m尽日君王看不足\u001b[0m\n",
      "原输入输出：\u001b[034m渔阳鼙鼓动地来，惊破霓裳羽衣曲。\u001b[0m 模型输出：\u001b[034m惊破霓裳羽衣曲\u001b[0m\n",
      "原输入输出：\u001b[034m九重城阙烟尘生，千乘万骑西南行。\u001b[0m 模型输出：\u001b[034m千乘万骑西南行\u001b[0m\n",
      "原输入输出：\u001b[034m翠华摇摇行复止，西出都门百余里。\u001b[0m 模型输出：\u001b[034m西出都门百余里\u001b[0m\n",
      "原输入输出：\u001b[034m六军不发无奈何，宛转蛾眉马前死。\u001b[0m 模型输出：\u001b[034m宛转蛾眉马前死\u001b[0m\n",
      "原输入输出：\u001b[034m花钿委地无人收，翠翘金雀玉搔头。\u001b[0m 模型输出：\u001b[034m翠翘金雀玉搔头\u001b[0m\n",
      "原输入输出：\u001b[034m君王掩面救不得，回看血泪相和流。\u001b[0m 模型输出：\u001b[034m回看血泪相和流\u001b[0m\n",
      "原输入输出：\u001b[034m黄埃散漫风萧索，云栈萦纡登剑阁。\u001b[0m 模型输出：\u001b[034m云栈萦纡登剑阁\u001b[0m\n",
      "原输入输出：\u001b[034m峨嵋山下少人行，旌旗无光日色薄。\u001b[0m 模型输出：\u001b[034m旌旗无光日色薄\u001b[0m\n",
      "原输入输出：\u001b[034m蜀江水碧蜀山青，圣主朝朝暮暮情。\u001b[0m 模型输出：\u001b[034m圣主朝朝暮暮情\u001b[0m\n",
      "原输入输出：\u001b[034m行宫见月伤心色，夜雨闻铃肠断声。\u001b[0m 模型输出：\u001b[034m夜雨闻铃肠断声\u001b[0m\n",
      "原输入输出：\u001b[034m天旋地转回龙驭，到此踌躇不能去。\u001b[0m 模型输出：\u001b[034m到此踌躇不能去\u001b[0m\n",
      "原输入输出：\u001b[034m马嵬坡下泥土中，不见玉颜空死处。\u001b[0m 模型输出：\u001b[034m不见玉颜空死处\u001b[0m\n",
      "原输入输出：\u001b[034m君臣相顾尽沾衣，东望都门信马归。\u001b[0m 模型输出：\u001b[034m东望都门信马归\u001b[0m\n",
      "原输入输出：\u001b[034m归来池苑皆依旧，太液芙蓉未央柳。\u001b[0m 模型输出：\u001b[034m太液芙蓉未央柳\u001b[0m\n",
      "原输入输出：\u001b[034m芙蓉如面柳如眉，对此如何不泪垂。\u001b[0m 模型输出：\u001b[034m对此如何不泪垂\u001b[0m\n",
      "原输入输出：\u001b[034m春风桃李花开日，秋雨梧桐叶落时。\u001b[0m 模型输出：\u001b[034m秋雨梧桐叶落时\u001b[0m\n",
      "原输入输出：\u001b[034m西宫南内多秋草，落叶满阶红不扫。\u001b[0m 模型输出：\u001b[034m落叶满阶红不扫\u001b[0m\n",
      "原输入输出：\u001b[034m梨园弟子白发新，椒房阿监青娥老。\u001b[0m 模型输出：\u001b[034m椒房阿监青娥老\u001b[0m\n",
      "原输入输出：\u001b[034m夕殿萤飞思悄然，孤灯挑尽未成眠。\u001b[0m 模型输出：\u001b[034m孤灯挑尽未成眠\u001b[0m\n",
      "原输入输出：\u001b[034m迟迟钟鼓初长夜，耿耿星河欲曙天。\u001b[0m 模型输出：\u001b[034m耿耿星河欲曙天\u001b[0m\n",
      "原输入输出：\u001b[034m鸳鸯瓦冷霜华重，翡翠衾寒谁与共。\u001b[0m 模型输出：\u001b[034m翡翠衾寒谁与共\u001b[0m\n",
      "原输入输出：\u001b[034m悠悠生死别经年，魂魄不曾来入梦。\u001b[0m 模型输出：\u001b[034m魂魄不曾来入梦\u001b[0m\n",
      "原输入输出：\u001b[034m临邛道士鸿都客，能以精诚致魂魄。\u001b[0m 模型输出：\u001b[034m能以精诚致魂魄\u001b[0m\n",
      "原输入输出：\u001b[034m为感君王辗转思，遂教方士殷勤觅。\u001b[0m 模型输出：\u001b[034m遂教方士殷勤觅\u001b[0m\n",
      "原输入输出：\u001b[034m排空驭气奔如电，升天入地求之遍。\u001b[0m 模型输出：\u001b[034m升天入地求之遍\u001b[0m\n",
      "原输入输出：\u001b[034m上穷碧落下黄泉，两处茫茫皆不见。\u001b[0m 模型输出：\u001b[034m两处茫茫皆不见\u001b[0m\n",
      "原输入输出：\u001b[034m忽闻海上有仙山，山在虚无缥渺间。\u001b[0m 模型输出：\u001b[034m山在虚无缥渺间\u001b[0m\n",
      "原输入输出：\u001b[034m楼阁玲珑五云起，其中绰约多仙子。\u001b[0m 模型输出：\u001b[034m其中绰约多仙子\u001b[0m\n",
      "原输入输出：\u001b[034m中有一人字太真，雪肤花貌参差是。\u001b[0m 模型输出：\u001b[034m雪肤花貌参差是\u001b[0m\n",
      "原输入输出：\u001b[034m金阙西厢叩玉扃，转教小玉报双成。\u001b[0m 模型输出：\u001b[034m转教小玉报双成\u001b[0m\n",
      "原输入输出：\u001b[034m闻道汉家天子使，九华帐里梦魂惊。\u001b[0m 模型输出：\u001b[034m九华帐里梦魂惊\u001b[0m\n",
      "原输入输出：\u001b[034m揽衣推枕起徘徊，珠箔银屏迤逦开。\u001b[0m 模型输出：\u001b[034m珠箔银屏迤逦开\u001b[0m\n",
      "原输入输出：\u001b[034m云鬓半偏新睡觉，花冠不整下堂来。\u001b[0m 模型输出：\u001b[034m花冠不整下堂来\u001b[0m\n",
      "原输入输出：\u001b[034m风吹仙袂飘飖举，犹似霓裳羽衣舞。\u001b[0m 模型输出：\u001b[034m犹似霓裳羽衣舞\u001b[0m\n",
      "原输入输出：\u001b[034m玉容寂寞泪阑干，梨花一枝春带雨。\u001b[0m 模型输出：\u001b[034m梨花一枝春带雨\u001b[0m\n",
      "原输入输出：\u001b[034m含情凝睇谢君王，一别音容两渺茫。\u001b[0m 模型输出：\u001b[034m一别音容两渺茫\u001b[0m\n",
      "原输入输出：\u001b[034m昭阳殿里恩爱绝，蓬莱宫中日月长。\u001b[0m 模型输出：\u001b[034m蓬莱宫中日月长\u001b[0m\n",
      "原输入输出：\u001b[034m回头下望人寰处，不见长安见尘雾。\u001b[0m 模型输出：\u001b[034m不见长安见尘雾\u001b[0m\n",
      "原输入输出：\u001b[034m惟将旧物表深情，钿合金钗寄将去。\u001b[0m 模型输出：\u001b[034m钿合金钗寄将去\u001b[0m\n",
      "原输入输出：\u001b[034m钗留一股合一扇，钗擘黄金合分钿。\u001b[0m 模型输出：\u001b[034m钗擘黄金合分钿\u001b[0m\n",
      "原输入输出：\u001b[034m但教心似金钿坚，天上人间会相见。\u001b[0m 模型输出：\u001b[034m天上人间会相见\u001b[0m\n",
      "原输入输出：\u001b[034m临别殷勤重寄词，词中有誓两心知。\u001b[0m 模型输出：\u001b[034m词中有誓两心知\u001b[0m\n",
      "原输入输出：\u001b[034m七月七日长生殿，夜半无人私语时。\u001b[0m 模型输出：\u001b[034m夜半无人私语时\u001b[0m\n",
      "原输入输出：\u001b[034m在天愿作比翼鸟，在地愿为连理枝。\u001b[0m 模型输出：\u001b[034m在地愿为连理枝\u001b[0m\n",
      "原输入输出：\u001b[034m天长地久有时尽，此恨绵绵无绝期。\u001b[0m 模型输出：\u001b[034m此恨绵绵无绝期\u001b[0m\n"
     ]
    }
   ],
   "source": [
    "for i in range(len(seqs)):\n",
    "    seq = seq2seq(x_encoder[i: i + 1])\n",
    "    print('原输入输出：\\033[034m%s\\033[0m' % seqs[i], '模型输出：\\033[034m%s\\033[0m' % seq)"
   ]
  },
  {
   "cell_type": "code",
   "execution_count": null,
   "metadata": {},
   "outputs": [],
   "source": [
    "for _ in range(5):\n",
    "    chrs = input('输入：').strip()  # 输入7个字\n",
    "    x_encoder_pred = to_categorical([[chr2id_input[c] for c in chrs]], num_classes_input)\n",
    "    seq = seq2seq(x_encoder_pred)\n",
    "    print('输出：%s\\n' % seq)"
   ]
  }
 ],
 "metadata": {
  "kernelspec": {
   "display_name": "Python 3",
   "language": "python",
   "name": "python3"
  },
  "language_info": {
   "codemirror_mode": {
    "name": "ipython",
    "version": 3
   },
   "file_extension": ".py",
   "mimetype": "text/x-python",
   "name": "python",
   "nbconvert_exporter": "python",
   "pygments_lexer": "ipython3",
   "version": "3.6.8"
  }
 },
 "nbformat": 4,
 "nbformat_minor": 2
}
