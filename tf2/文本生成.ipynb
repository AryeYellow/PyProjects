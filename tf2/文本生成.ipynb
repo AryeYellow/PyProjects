{
 "cells": [
  {
   "cell_type": "markdown",
   "metadata": {},
   "source": [
    "# 文本生成\n",
    "https://blog.csdn.net/Yellow_python/article/details/86788587"
   ]
  },
  {
   "cell_type": "code",
   "execution_count": 1,
   "metadata": {},
   "outputs": [],
   "source": [
    "from warnings import filterwarnings\n",
    "filterwarnings('ignore')  # 不打印警告\n",
    "import numpy as np\n",
    "from tensorflow.python.keras.utils import to_categorical\n",
    "from tensorflow.python.keras.models import Sequential\n",
    "from tensorflow.python.keras.layers import Conv1D, MaxPool1D, GlobalMaxPool1D, Dense"
   ]
  },
  {
   "cell_type": "markdown",
   "metadata": {},
   "source": [
    "## 配置"
   ]
  },
  {
   "cell_type": "code",
   "execution_count": 2,
   "metadata": {},
   "outputs": [],
   "source": [
    "window = 32  # 滑窗大小\n",
    "filters = 25  # 卷积录波器数量\n",
    "kernel_size = 5  # 卷积核大小\n",
    "times = 10  # 训练总次数\n",
    "batch_size = 512\n",
    "epochs = 250"
   ]
  },
  {
   "cell_type": "markdown",
   "metadata": {},
   "source": [
    "## 语料"
   ]
  },
  {
   "cell_type": "code",
   "execution_count": 3,
   "metadata": {},
   "outputs": [],
   "source": [
    "seq_chr = \"\"\"\n",
    "《长恨歌》——白居易\n",
    "汉皇重色思倾国，御宇多年求不得。杨家有女初长成，养在深闺人未识。天生丽质难自弃，一朝选在君王侧。\n",
    "回眸一笑百媚生，六宫粉黛无颜色。春寒赐浴华清池，温泉水滑洗凝脂。侍儿扶起娇无力，始是新承恩泽时。\n",
    "云鬓花颜金步摇，芙蓉帐暖度春宵。春宵苦短日高起，从此君王不早朝。承欢侍宴无闲暇，春从春游夜专夜。\n",
    "后宫佳丽三千人，三千宠爱在一身。金屋妆成娇侍夜，玉楼宴罢醉和春。姊妹弟兄皆列土，可怜光彩生门户。\n",
    "遂令天下父母心，不重生男重生女。骊宫高处入青云，仙乐风飘处处闻。缓歌慢舞凝丝竹，尽日君王看不足。\n",
    "渔阳鼙鼓动地来，惊破霓裳羽衣曲。九重城阙烟尘生，千乘万骑西南行。翠华摇摇行复止，西出都门百余里。\n",
    "六军不发无奈何，宛转蛾眉马前死。花钿委地无人收，翠翘金雀玉搔头。君王掩面救不得，回看血泪相和流。\n",
    "黄埃散漫风萧索，云栈萦纡登剑阁。峨嵋山下少人行，旌旗无光日色薄。蜀江水碧蜀山青，圣主朝朝暮暮情。\n",
    "行宫见月伤心色，夜雨闻铃肠断声。天旋地转回龙驭，到此踌躇不能去。马嵬坡下泥土中，不见玉颜空死处。\n",
    "君臣相顾尽沾衣，东望都门信马归。归来池苑皆依旧，太液芙蓉未央柳。芙蓉如面柳如眉，对此如何不泪垂。\n",
    "春风桃李花开日，秋雨梧桐叶落时。西宫南内多秋草，落叶满阶红不扫。梨园弟子白发新，椒房阿监青娥老。\n",
    "夕殿萤飞思悄然，孤灯挑尽未成眠。迟迟钟鼓初长夜，耿耿星河欲曙天。鸳鸯瓦冷霜华重，翡翠衾寒谁与共。\n",
    "悠悠生死别经年，魂魄不曾来入梦。临邛道士鸿都客，能以精诚致魂魄。为感君王辗转思，遂教方士殷勤觅。\n",
    "排空驭气奔如电，升天入地求之遍。上穷碧落下黄泉，两处茫茫皆不见。忽闻海上有仙山，山在虚无缥渺间。\n",
    "楼阁玲珑五云起，其中绰约多仙子。中有一人字太真，雪肤花貌参差是。金阙西厢叩玉扃，转教小玉报双成。\n",
    "闻道汉家天子使，九华帐里梦魂惊。揽衣推枕起徘徊，珠箔银屏迤逦开。云鬓半偏新睡觉，花冠不整下堂来。\n",
    "风吹仙袂飘飖举，犹似霓裳羽衣舞。玉容寂寞泪阑干，梨花一枝春带雨。含情凝睇谢君王，一别音容两渺茫。\n",
    "昭阳殿里恩爱绝，蓬莱宫中日月长。回头下望人寰处，不见长安见尘雾。惟将旧物表深情，钿合金钗寄将去。\n",
    "钗留一股合一扇，钗擘黄金合分钿。但教心似金钿坚，天上人间会相见。临别殷勤重寄词，词中有誓两心知。\n",
    "七月七日长生殿，夜半无人私语时。在天愿作比翼鸟，在地愿为连理枝。天长地久有时尽，此恨绵绵无绝期。\n",
    "\"\"\".replace('\\n', '').replace('《长恨歌》——白居易', '')"
   ]
  },
  {
   "cell_type": "markdown",
   "metadata": {},
   "source": [
    "## 数据预处理"
   ]
  },
  {
   "cell_type": "code",
   "execution_count": 4,
   "metadata": {},
   "outputs": [
    {
     "name": "stdout",
     "output_type": "stream",
     "text": [
      "语料长度 960 字汇量 467\n"
     ]
    }
   ],
   "source": [
    "len_seq = len(seq_chr)\n",
    "chr_set = set(seq_chr)  # 字库\n",
    "len_chr = len(chr_set)\n",
    "print('语料长度', len_seq, '字汇量', len_chr)\n",
    "chr2id = {c: i for i, c in enumerate(chr_set)}\n",
    "id2chr = {i: c for c, i in chr2id.items()}\n",
    "seq_id = [chr2id[c] for c in seq_chr]  # 文字序列 --> 索引序列"
   ]
  },
  {
   "cell_type": "markdown",
   "metadata": {},
   "source": [
    "## 输入层和标签"
   ]
  },
  {
   "cell_type": "code",
   "execution_count": 5,
   "metadata": {},
   "outputs": [
    {
     "name": "stdout",
     "output_type": "stream",
     "text": [
      "x.shape (928, 32, 1) y.shape (928, 467)\n"
     ]
    }
   ],
   "source": [
    "reshape = lambda x: np.reshape(x, (-1, window, 1)) / len_chr\n",
    "x = [seq_id[i: i + window] for i in range(len_seq - window)]\n",
    "x = reshape(x)\n",
    "y = [seq_id[i + window] for i in range(len_seq - window)]\n",
    "y = to_categorical(y, num_classes=len_chr)\n",
    "print('x.shape', x.shape, 'y.shape', y.shape)"
   ]
  },
  {
   "cell_type": "markdown",
   "metadata": {},
   "source": [
    "## 建模"
   ]
  },
  {
   "cell_type": "code",
   "execution_count": 6,
   "metadata": {},
   "outputs": [],
   "source": [
    "model = Sequential()\n",
    "model.add(Conv1D(filters, kernel_size * 3, activation='relu'))\n",
    "model.add(MaxPool1D())\n",
    "model.add(Conv1D(filters * 2, kernel_size, activation='relu'))\n",
    "model.add(GlobalMaxPool1D())\n",
    "model.add(Dense(len_chr, activation='softmax'))\n",
    "model.compile('adam', 'categorical_crossentropy')"
   ]
  },
  {
   "cell_type": "markdown",
   "metadata": {},
   "source": [
    "## 随机采样"
   ]
  },
  {
   "cell_type": "code",
   "execution_count": 7,
   "metadata": {},
   "outputs": [],
   "source": [
    "def draw_sample(predictions, temperature):\n",
    "    pred = predictions.astype('float64')  # 提高精度防报错\n",
    "    pred = np.log(pred) / temperature\n",
    "    pred = np.exp(pred)\n",
    "    pred = pred / np.sum(pred)\n",
    "    pred = np.random.multinomial(1, pred, 1)\n",
    "    return np.argmax(pred)"
   ]
  },
  {
   "cell_type": "markdown",
   "metadata": {},
   "source": [
    "## 预测"
   ]
  },
  {
   "cell_type": "code",
   "execution_count": 8,
   "metadata": {},
   "outputs": [],
   "source": [
    "def predict(t, pred=None):\n",
    "    if pred is None:\n",
    "        randint = np.random.randint(len_seq - window)\n",
    "        pred = seq_id[randint: randint + window]\n",
    "    if t:\n",
    "        print('随机采样，温度：%.1f' % t)\n",
    "        sample = draw_sample\n",
    "    else:\n",
    "        print('贪婪采样')\n",
    "        sample = np.argmax\n",
    "    for _ in range(window):\n",
    "        x_pred = reshape(pred[-window:])\n",
    "        y_pred = model.predict(x_pred)[0]\n",
    "        i = sample(y_pred, t)\n",
    "        pred.append(i)\n",
    "    text = ''.join([id2chr[i] for i in pred[-window:]])\n",
    "    print('\\033[033m%s\\033[0m' % text)"
   ]
  },
  {
   "cell_type": "markdown",
   "metadata": {},
   "source": [
    "## 训练"
   ]
  },
  {
   "cell_type": "code",
   "execution_count": 9,
   "metadata": {},
   "outputs": [
    {
     "name": "stdout",
     "output_type": "stream",
     "text": [
      "-------------------------------1--------------------------------\n",
      "贪婪采样\n",
      "\u001b[033m诚致诚致感感感辗，辗，思，，教，，，不朝朝。。回下来，，相上上上\u001b[0m\n",
      "随机采样，温度：1.0\n",
      "\u001b[033m回血无血里相和。日侧如魂尽奔色入灯眉萤。花头漫一茫。回。迟羽，闲\u001b[0m\n",
      "随机采样，温度：1.5\n",
      "\u001b[033m水颜，暮临面子花钿步枕阳金殿长尘，人与教缓心日中表都天君春不闻成\u001b[0m\n",
      "随机采样，温度：2.0\n",
      "\u001b[033m翠爱雾肠心宛词苦誓屋为风面脂鼓两皆止质珠西峨到但始，春觉去委下莱\u001b[0m\n",
      "-------------------------------2--------------------------------\n",
      "贪婪采样\n",
      "\u001b[033m间。楼阁玲珑五云起，其中绰约多仙子。中有一人字太真，雪肤花貌参差\u001b[0m\n",
      "随机采样，温度：1.0\n",
      "\u001b[033m。临邛长士鸿，客，能以精诚致转魄。为感君王辗，君绝其山在士里殷间\u001b[0m\n",
      "随机采样，温度：1.5\n",
      "\u001b[033m凝丝春，尽不。人看不春新列，不，，，不，翠不爱户地有阁皆，行从闲\u001b[0m\n",
      "随机采样，温度：2.0\n",
      "\u001b[033m遂尽百宵颜空瓦处皆阁臣扫顾尽转期，雨天夜士风回仙下时门不，人股下\u001b[0m\n",
      "-------------------------------3--------------------------------\n",
      "贪婪采样\n",
      "\u001b[033m雀玉搔头。君王掩面救不得，回看血泪相和流。黄埃散漫风萧索，云栈萦\u001b[0m\n",
      "随机采样，温度：1.0\n",
      "\u001b[033m，翡翠衾寒谁与共。悠悠生死别经年，魂魄不曾来入梦。临邛道士鸿，客\u001b[0m\n",
      "随机采样，温度：1.5\n",
      "\u001b[033m色，日雨闻铃。断。光天旋地夜回回春夜，地地来时。地。。。比起，处\u001b[0m\n",
      "随机采样，温度：2.0\n",
      "\u001b[033m重城阙烟尘生，天乘万骑西南西。翠华摇归枕动复止剑诚出见峨子君爱人\u001b[0m\n",
      "-------------------------------4--------------------------------\n",
      "贪婪采样\n",
      "\u001b[033m，宛转蛾眉马前死。花钿委地无人收，翠翘金雀玉搔头。君王掩面救不得\u001b[0m\n",
      "随机采样，温度：1.0\n",
      "\u001b[033m月七日长生殿，夜半无人私语时。在天愿作比翼鸟，在地愿为连理枝。天\u001b[0m\n",
      "随机采样，温度：1.5\n",
      "\u001b[033m佳宫三人人，旌千宠中。中华别落。殷里一寒生此。寒日妹飘，，少起，\u001b[0m\n",
      "随机采样，温度：2.0\n",
      "\u001b[033m欢侍宴起闲暇王春，兄游天专地。后下，，留见，为。殷朝渺朝。下下人\u001b[0m\n",
      "-------------------------------5--------------------------------\n",
      "贪婪采样\n",
      "\u001b[033m，玉楼宴罢醉和春。姊妹弟兄皆列土，可怜光彩生门户。遂令天下父母心\u001b[0m\n",
      "随机采样，温度：1.0\n",
      "\u001b[033m莱宫中日月长。回头下望人寰处，不见长安见尘雾。惟将旧物表深情，钿\u001b[0m\n",
      "随机采样，温度：1.5\n",
      "\u001b[033m深情，钿合金钗寄将去。钗留一股合一扇，钗擘黄，不分钿。但似心似金\u001b[0m\n",
      "随机采样，温度：2.0\n",
      "\u001b[033m飖皆依旧，太液语朝未蓉芙一华期梦乐宵中眉情彩如索阁死无。回金回将\u001b[0m\n",
      "-------------------------------6--------------------------------\n",
      "贪婪采样\n",
      "\u001b[033m无光日色薄。蜀江水碧蜀山青，圣主朝朝暮暮情。行宫见月伤心色，夜雨\u001b[0m\n",
      "随机采样，温度：1.0\n",
      "\u001b[033m山，山在虚堂缥渺间。楼阁玲珑五云起，其中绰约多仙子。中有一人字太\u001b[0m\n",
      "随机采样，温度：1.5\n",
      "\u001b[033m誓两心知。七月七日长生，，夜半无人私语时。在天愿作比翼鸟，在地愿\u001b[0m\n",
      "随机采样，温度：2.0\n",
      "\u001b[033m时。在处愿作比翼鸟，在钿愿为连理容。爱地地一地尽尽翠此里此王蓉绝\u001b[0m\n",
      "-------------------------------7--------------------------------\n",
      "贪婪采样\n",
      "\u001b[033m理枝。天长地久有时尽，此恨绵绵无绝期。期。经，宫，相，，，两圣枝\u001b[0m\n",
      "随机采样，温度：1.0\n",
      "\u001b[033m日月长。回头下望人寰处，不见见安见尘雾。惟将旧物表深情，钿合金钗\u001b[0m\n",
      "随机采样，温度：1.5\n",
      "\u001b[033m，天上人间会相见。临别殷勤重寄词，词中有誓两心知。七月七日长生殿\u001b[0m\n",
      "随机采样，温度：2.0\n",
      "\u001b[033m为连理枝。天长久久春时尽，无恨和绵和绝期。发坚春。春夕。青坚收在\u001b[0m\n",
      "-------------------------------8--------------------------------\n",
      "贪婪采样\n",
      "\u001b[033m教心似金钿坚，天上人间会相见。临别殷勤重寄词，词中有誓两心知。七\u001b[0m\n",
      "随机采样，温度：1.0\n",
      "\u001b[033m夜。后宫佳丽三千人，三千宠爱在一身。金屋妆成娇侍夜，玉楼宴罢醉和\u001b[0m\n",
      "随机采样，温度：1.5\n",
      "\u001b[033m秋草，落叶满阶红不扫。梨园弟子白发新，椒房阿监青娥老。夕殿萤飞思\u001b[0m\n",
      "随机采样，温度：2.0\n",
      "\u001b[033m天旋转转地龙驭厢到在踌躇不中不在马马马都泥鸟来，见起君，。。短天\u001b[0m\n",
      "-------------------------------9--------------------------------\n",
      "贪婪采样\n",
      "\u001b[033m流。黄埃散漫风萧索，云栈萦纡登剑阁。峨嵋山下少人行，旌旗无光日色\u001b[0m\n",
      "随机采样，温度：1.0\n",
      "\u001b[033m寂寞泪阑干，梨花一枝春带雨。含情凝睇谢君王，一别音容两渺茫。昭阳\u001b[0m\n",
      "随机采样，温度：1.5\n",
      "\u001b[033m夜凝丝竹，尽日尽王旧不足。渔阳鼙鼓动鼓玉，霓破日，日衣曲。九。九\u001b[0m\n",
      "随机采样，温度：2.0\n",
      "\u001b[033m蜀山青，圣主朝朝暮暮情。西宫见月伤心色时玉。金朝。。客时，。雨人\u001b[0m\n",
      "-------------------------------10-------------------------------\n",
      "贪婪采样\n",
      "\u001b[033m上人间会相见。临别殷勤重寄词，词中有誓两心知。七月七日长生殿，夜\u001b[0m\n",
      "随机采样，温度：1.0\n",
      "\u001b[033m此恨绵绵无绝期。期。。，宫，相，，梦宫圣枝长朝朝回回欢下鸳烟闲，\u001b[0m\n",
      "随机采样，温度：1.5\n",
      "\u001b[033m未成眠。迟迟钟鼓初长夜，耿耿星河欲曙天。鸳鸯瓦冷霜华重，翡翠衾寒\u001b[0m\n",
      "随机采样，温度：2.0\n",
      "\u001b[033m，圣主朝朝暮暮情。行宫见月伤心色，夜雨闻铃肠断声。天旋地转回龙驭\u001b[0m\n"
     ]
    }
   ],
   "source": [
    "for e in range(times):\n",
    "    model.fit(x, y, batch_size, epochs, verbose=0)\n",
    "    print(str(e + 1).center(window * 2, '-'))\n",
    "    # 训练效果展示\n",
    "    for t in (None, 1, 1.5, 2):\n",
    "        predict(t)"
   ]
  },
  {
   "cell_type": "code",
   "execution_count": 10,
   "metadata": {},
   "outputs": [
    {
     "name": "stdout",
     "output_type": "stream",
     "text": [
      "----------------------------complete----------------------------\n",
      "贪婪采样\n",
      "\u001b[033m期。经，宫，相，，梦两圣枝长朝朝回回欢下鸳汉丽，，，从从。里里。\u001b[0m\n",
      "随机采样，温度：1.0\n",
      "\u001b[033m期。经，宫，佳，起人宫钿。长朝马回回下，，丽遂躇，不开，不王王下\u001b[0m\n",
      "随机采样，温度：1.5\n",
      "\u001b[033m期。雪魂佳，佳，起日宫绰。长长回上去下人殿见暇，，承开。嵬遂生回\u001b[0m\n",
      "随机采样，温度：2.0\n",
      "\u001b[033m期。人，相，相，，，宫。长朝朝朝回王欢人门汉在不，从从别万渺天别\u001b[0m\n"
     ]
    }
   ],
   "source": [
    "print('complete'.center(window * 2, '-'))\n",
    "for t in (None, 1, 1.5, 2):\n",
    "    predict(t, seq_id[-window:])"
   ]
  }
 ],
 "metadata": {
  "kernelspec": {
   "display_name": "Python 3",
   "language": "python",
   "name": "python3"
  },
  "language_info": {
   "codemirror_mode": {
    "name": "ipython",
    "version": 3
   },
   "file_extension": ".py",
   "mimetype": "text/x-python",
   "name": "python",
   "nbconvert_exporter": "python",
   "pygments_lexer": "ipython3",
   "version": "3.6.8"
  }
 },
 "nbformat": 4,
 "nbformat_minor": 2
}
