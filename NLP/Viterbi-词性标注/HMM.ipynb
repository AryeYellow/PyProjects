{
 "cells": [
  {
   "cell_type": "markdown",
   "metadata": {},
   "source": [
    "# HMM+Viterbi实现词性标注\n",
    "1. 概率图模型\n",
    "2. 贝叶斯网络\n",
    "3. 马尔科夫模型\n",
    "4. 隐马尔科夫模型\n",
    "5. HMM应用之一：隐序列解码\n",
    "6. Viterbi算法"
   ]
  },
  {
   "cell_type": "markdown",
   "metadata": {},
   "source": [
    "## Probabilistic Graphical Model\n",
    "**概率图模型**：利用图来表示与模型有关的变量的联合概率分布"
   ]
  },
  {
   "attachments": {
    "%E5%9B%BE%E7%89%87.png": {
     "image/png": "[encoded data removed]"
    }
   },
   "cell_type": "markdown",
   "metadata": {},
   "source": [
    "## Bayesian Network\n",
    "将随机变量作为结点，若两个随机变量相关或者不独立，则将二者连接一条边；若给定若干随机变量，则形成一个有向图，即构成一个<u>网络</u>。\n",
    "\n",
    "如果该网络是`有向无环图`，则这个网络称为**贝叶斯网络**。\n",
    "\n",
    "**e.g.**\n",
    "![%E5%9B%BE%E7%89%87.png](attachment:%E5%9B%BE%E7%89%87.png)\n",
    "$p(A,B,C,D)=P(A)P(B|A)P(C|A,B)P(D|C)$"
   ]
  },
  {
   "attachments": {
    "%E5%9B%BE%E7%89%87.png": {
     "image/png": "[encoded data removed]"
    }
   },
   "cell_type": "markdown",
   "metadata": {},
   "source": [
    "## Markov Model\n",
    "若<u>贝叶斯网络</u>退化成`线性链`，则得到**马尔科夫模型**。\n",
    "\n",
    "![%E5%9B%BE%E7%89%87.png](attachment:%E5%9B%BE%E7%89%87.png)\n",
    "\n",
    "已知 $n$ 个有序随机变量，根据贝叶斯定理，其联合分布可写成条件分布的连乘\n",
    "$$p(x_1,x_2,...x_n) = \\prod_{i=1}^n p(x_i|x_{i-1},...x_1)$$\n",
    "\n",
    "马尔科夫模型是指，假设序列中的任一随机变量只与它的前 $1$ 个变量有关，与更早的变量条件独立\n",
    "$$p(x_i|x_{i-1},...x_1) = p(x_i|x_{i-1})$$\n",
    "\n",
    "在此假设下，其联合分布可简化为\n",
    "$$p(x_1,x_2,...x_n) = p(x_1) \\prod_{i=2}^n p(x_i|x_{i-1})$$\n",
    "\n",
    "为了表达当前变量与更早的变量之间的关系，可引入<u>高阶马尔科夫性</u>，指当前随机变量与它的前 $m$ 个变量有关\n",
    "$$p(x_1,x_2,...x_n) = \\prod_{i=1}^n p(x_i|x_{i-1},...x_{i-m})$$"
   ]
  },
  {
   "cell_type": "markdown",
   "metadata": {},
   "source": [
    "## Hidden Markov Model\n",
    "\n",
    "对于离散型随机变量\n",
    "- 隐性序列：$Z=z_1,z_2,...z_n$\n",
    "- 显性序列：$X=x_1,x_2,...x_n$\n",
    "\n",
    "![](https://img-blog.csdnimg.cn/20190618094626159.png)\n",
    "\n",
    "已知显性序列 $X$ ，求解最大概率的隐性序列 $Z$，即：最大化 $p(Z|X)$\n",
    "\n",
    "$$p(Z|X)=p(X|Z)p(Z)= p(x_1,x_2,...x_n|z_1,z_2,...z_n) p(z_1,z_2,...z_n)$$\n",
    "\n",
    "根据马尔科夫假设，任一随机变量只与它的前 $1$ 个变量有关\n",
    "\n",
    "$$p(x_1,x_2,...x_n|z_1,z_2,...z_n)=\\prod_{i=1}^np(x_i|z_i)$$\n",
    "\n",
    "$$p(z_1,z_2,...z_n) = p(z_1) \\prod_{i=2}^n p(z_i|z_{i-1})$$\n",
    "\n",
    "模型简化为3个部分\n",
    "1. **（隐态→显态）发射概率模型：**$\\prod_{i=1}^np(x_i|z_i)$\n",
    "2. **（隐态）初始概率模型：**$p(z_1)$\n",
    "3. **（隐态）转移概率模型：**$\\prod_{i=2}^n p(z_i|z_{i-1})$"
   ]
  },
  {
   "cell_type": "markdown",
   "metadata": {},
   "source": [
    "## HMM预测解码问题\n",
    "\n",
    "已知HMM的参数 $\\lambda = (A,B,\\pi)$ 和观测序列 $O = o_1,o_2, ..., o_t$ ，计算模型 $\\lambda$ 下观测序列 $O$ 出现时最大可能的隐状态序列 $Z$\n",
    "\n",
    "`HMM`+`Viterbi`实现`POS tagging`"
   ]
  },
  {
   "cell_type": "markdown",
   "metadata": {},
   "source": [
    "#### 基础配置、语料准备"
   ]
  },
  {
   "cell_type": "code",
   "execution_count": 1,
   "metadata": {},
   "outputs": [],
   "source": [
    "import numpy as np, pandas as pd\n",
    "\n",
    "START = 'start'  # 句始tag\n",
    "END = 'end'  # 句末tag\n",
    "NOUN = 'subj'  # 名词\n",
    "ADV = 'adv'  # 副词\n",
    "ADJ = 'adj'  # 形容词\n",
    "\n",
    "corpus = np.array([\n",
    "    ('我', NOUN), ('很', ADV), ('菜', ADJ), ('。', END),\n",
    "    ('我', NOUN), ('好', ADV), ('菜', ADJ), ('。', END),\n",
    "    ('我', NOUN), ('很', ADV), ('好', ADJ), ('。', END),\n",
    "    ('他', NOUN), ('很', ADV), ('菜', ADJ), ('。', END),\n",
    "    ('他', NOUN), ('好', ADV), ('菜', ADJ), ('。', END),\n",
    "    ('他', NOUN), ('很', ADV), ('好', ADJ), ('。', END),\n",
    "    ('菜', NOUN), ('很', ADV), ('好', ADJ), ('。', END),\n",
    "    ('我', NOUN), ('菜', ADJ), ('。', END),\n",
    "    ('我', NOUN), ('好', ADJ), ('。', END),\n",
    "    ('他', NOUN), ('菜', ADJ), ('。', END),\n",
    "    ('他', NOUN), ('好', ADJ), ('。', END),\n",
    "    ('菜', NOUN), ('好', ADJ), ('。', END),\n",
    "    ('我', NOUN), ('好', ADV), ('好', ADJ), ('。', END),\n",
    "    ('他', NOUN), ('好', ADV), ('好', ADJ), ('。', END),\n",
    "], dtype=str)\n",
    "\n",
    "words = sorted(set(corpus[:, 0]))\n",
    "tags = sorted(set(corpus[:, 1]))\n",
    "\n",
    "W = len(words)  # 词汇量\n",
    "T = len(tags)   # 词性种类数\n",
    "\n",
    "word2id = {words[i]: i for i in range(W)}\n",
    "tag2id = {tags[i]: i for i in range(T)}\n",
    "id2tag = {i: tags[i] for i in range(T)}"
   ]
  },
  {
   "cell_type": "markdown",
   "metadata": {},
   "source": [
    "#### HMM参数训练"
   ]
  },
  {
   "cell_type": "code",
   "execution_count": 2,
   "metadata": {},
   "outputs": [],
   "source": [
    "SMOOTHNESS = 1e-8  # 平滑参数\n",
    "\n",
    "emit_p = np.zeros((T, W)) + SMOOTHNESS  # emission_probability\n",
    "start_p = np.zeros(T) + SMOOTHNESS  # start_probability\n",
    "trans_p = np.zeros((T, T)) + SMOOTHNESS  # transition_probability\n",
    "\n",
    "prev_tag = START  # 前一个tag\n",
    "for word, tag in corpus:\n",
    "    wid, tid = word2id[word], tag2id[tag]\n",
    "    emit_p[tid][wid] += 1\n",
    "    if prev_tag == START:\n",
    "        start_p[tid] += 1\n",
    "    else:\n",
    "        trans_p[tag2id[prev_tag]][tid] += 1\n",
    "    prev_tag = START if tag == END else tag  # 句尾判断"
   ]
  },
  {
   "cell_type": "markdown",
   "metadata": {},
   "source": [
    "#### 取对数，防止下溢，乘法运算转换成更简单的加法运算\n",
    "$$\\sum_{i=1}^n \\ln p(x_i|z_i) + \\ln p(z_1) + \\sum_{i=2}^n \\ln p(z_i|z_{i-1})$$"
   ]
  },
  {
   "cell_type": "code",
   "execution_count": 3,
   "metadata": {},
   "outputs": [],
   "source": [
    "# 频数 --> 概率对数\n",
    "start_p = np.log(start_p / sum(start_p))\n",
    "for i in range(T):\n",
    "    emit_p[i] = np.log(emit_p[i] / sum(emit_p[i]))\n",
    "    trans_p[i] = np.log(trans_p[i] / sum(trans_p[i]))"
   ]
  },
  {
   "cell_type": "markdown",
   "metadata": {},
   "source": [
    "#### 隐→显 发射矩阵"
   ]
  },
  {
   "cell_type": "code",
   "execution_count": 4,
   "metadata": {},
   "outputs": [
    {
     "data": {
      "text/html": [
       "<div>\n",
       "<style scoped>\n",
       "    .dataframe tbody tr th:only-of-type {\n",
       "        vertical-align: middle;\n",
       "    }\n",
       "\n",
       "    .dataframe tbody tr th {\n",
       "        vertical-align: top;\n",
       "    }\n",
       "\n",
       "    .dataframe thead th {\n",
       "        text-align: right;\n",
       "    }\n",
       "</style>\n",
       "<table border=\"1\" class=\"dataframe\">\n",
       "  <thead>\n",
       "    <tr style=\"text-align: right;\">\n",
       "      <th></th>\n",
       "      <th>adj</th>\n",
       "      <th>adv</th>\n",
       "      <th>end</th>\n",
       "      <th>subj</th>\n",
       "    </tr>\n",
       "  </thead>\n",
       "  <tbody>\n",
       "    <tr>\n",
       "      <th>START</th>\n",
       "      <td>-21.059738</td>\n",
       "      <td>-21.059738</td>\n",
       "      <td>-21.059738</td>\n",
       "      <td>-2.142857e-09</td>\n",
       "    </tr>\n",
       "  </tbody>\n",
       "</table>\n",
       "</div>"
      ],
      "text/plain": [
       "             adj        adv        end          subj\n",
       "START -21.059738 -21.059738 -21.059738 -2.142857e-09"
      ]
     },
     "execution_count": 4,
     "metadata": {},
     "output_type": "execute_result"
    }
   ],
   "source": [
    "pd.DataFrame(start_p.reshape(1, T), ['START'], tags)"
   ]
  },
  {
   "cell_type": "markdown",
   "metadata": {},
   "source": [
    "#### 初始隐态矩阵"
   ]
  },
  {
   "cell_type": "code",
   "execution_count": 5,
   "metadata": {},
   "outputs": [
    {
     "data": {
      "text/html": [
       "<div>\n",
       "<style scoped>\n",
       "    .dataframe tbody tr th:only-of-type {\n",
       "        vertical-align: middle;\n",
       "    }\n",
       "\n",
       "    .dataframe tbody tr th {\n",
       "        vertical-align: top;\n",
       "    }\n",
       "\n",
       "    .dataframe thead th {\n",
       "        text-align: right;\n",
       "    }\n",
       "</style>\n",
       "<table border=\"1\" class=\"dataframe\">\n",
       "  <thead>\n",
       "    <tr style=\"text-align: right;\">\n",
       "      <th></th>\n",
       "      <th>adj</th>\n",
       "      <th>adv</th>\n",
       "      <th>end</th>\n",
       "      <th>subj</th>\n",
       "    </tr>\n",
       "  </thead>\n",
       "  <tbody>\n",
       "    <tr>\n",
       "      <th>START</th>\n",
       "      <td>-21.059738</td>\n",
       "      <td>-21.059738</td>\n",
       "      <td>-21.059738</td>\n",
       "      <td>-2.142857e-09</td>\n",
       "    </tr>\n",
       "  </tbody>\n",
       "</table>\n",
       "</div>"
      ],
      "text/plain": [
       "             adj        adv        end          subj\n",
       "START -21.059738 -21.059738 -21.059738 -2.142857e-09"
      ]
     },
     "execution_count": 5,
     "metadata": {},
     "output_type": "execute_result"
    }
   ],
   "source": [
    "pd.DataFrame(start_p.reshape(1, T), ['START'], tags)"
   ]
  },
  {
   "cell_type": "markdown",
   "metadata": {},
   "source": [
    "#### 隐态转移矩阵"
   ]
  },
  {
   "cell_type": "code",
   "execution_count": 6,
   "metadata": {},
   "outputs": [
    {
     "data": {
      "text/html": [
       "<div>\n",
       "<style scoped>\n",
       "    .dataframe tbody tr th:only-of-type {\n",
       "        vertical-align: middle;\n",
       "    }\n",
       "\n",
       "    .dataframe tbody tr th {\n",
       "        vertical-align: top;\n",
       "    }\n",
       "\n",
       "    .dataframe thead th {\n",
       "        text-align: right;\n",
       "    }\n",
       "</style>\n",
       "<table border=\"1\" class=\"dataframe\">\n",
       "  <thead>\n",
       "    <tr style=\"text-align: right;\">\n",
       "      <th></th>\n",
       "      <th>adj</th>\n",
       "      <th>adv</th>\n",
       "      <th>end</th>\n",
       "      <th>subj</th>\n",
       "    </tr>\n",
       "  </thead>\n",
       "  <tbody>\n",
       "    <tr>\n",
       "      <th>adj</th>\n",
       "      <td>-2.105974e+01</td>\n",
       "      <td>-21.059738</td>\n",
       "      <td>-2.142857e-09</td>\n",
       "      <td>-21.059738</td>\n",
       "    </tr>\n",
       "    <tr>\n",
       "      <th>adv</th>\n",
       "      <td>-3.333334e-09</td>\n",
       "      <td>-20.617905</td>\n",
       "      <td>-2.061791e+01</td>\n",
       "      <td>-20.617905</td>\n",
       "    </tr>\n",
       "    <tr>\n",
       "      <th>end</th>\n",
       "      <td>-1.386294e+00</td>\n",
       "      <td>-1.386294</td>\n",
       "      <td>-1.386294e+00</td>\n",
       "      <td>-1.386294</td>\n",
       "    </tr>\n",
       "    <tr>\n",
       "      <th>subj</th>\n",
       "      <td>-1.029619e+00</td>\n",
       "      <td>-0.441833</td>\n",
       "      <td>-2.105974e+01</td>\n",
       "      <td>-21.059738</td>\n",
       "    </tr>\n",
       "  </tbody>\n",
       "</table>\n",
       "</div>"
      ],
      "text/plain": [
       "               adj        adv           end       subj\n",
       "adj  -2.105974e+01 -21.059738 -2.142857e-09 -21.059738\n",
       "adv  -3.333334e-09 -20.617905 -2.061791e+01 -20.617905\n",
       "end  -1.386294e+00  -1.386294 -1.386294e+00  -1.386294\n",
       "subj -1.029619e+00  -0.441833 -2.105974e+01 -21.059738"
      ]
     },
     "execution_count": 6,
     "metadata": {},
     "output_type": "execute_result"
    }
   ],
   "source": [
    "pd.DataFrame(trans_p, tags, tags)"
   ]
  },
  {
   "cell_type": "markdown",
   "metadata": {},
   "source": [
    "#### 待测句子"
   ]
  },
  {
   "cell_type": "code",
   "execution_count": 7,
   "metadata": {},
   "outputs": [],
   "source": [
    "sentence = list('菜好好。')"
   ]
  },
  {
   "cell_type": "markdown",
   "metadata": {},
   "source": [
    "#### Viterbi"
   ]
  },
  {
   "cell_type": "code",
   "execution_count": 8,
   "metadata": {},
   "outputs": [],
   "source": [
    "obs = [word2id[w] for w in sentence]  # 观测序列\n",
    "le = len(obs)  # 序列长度\n",
    "\n",
    "# 动态规划矩阵\n",
    "dp = np.array([[-1e99] * T] * le)  # 节点最大概率对数\n",
    "path = np.zeros((le, T), dtype=int)  # 节点转移记录\n",
    "\n",
    "for j in range(T):\n",
    "    dp[0][j] = start_p[j] + emit_p[j][obs[0]]\n",
    "    path[0][j] = -1\n",
    "\n",
    "for i in range(1, le):\n",
    "    for j in range(T):\n",
    "        dp[i][j], path[i][j] = max(\n",
    "            (dp[i - 1][k] + trans_p[k][j] + emit_p[j][obs[i]], k)\n",
    "            for k in range(T))"
   ]
  },
  {
   "cell_type": "markdown",
   "metadata": {},
   "source": [
    "#### 节点最大概率矩阵"
   ]
  },
  {
   "cell_type": "code",
   "execution_count": 9,
   "metadata": {},
   "outputs": [
    {
     "data": {
      "text/html": [
       "<div>\n",
       "<style scoped>\n",
       "    .dataframe tbody tr th:only-of-type {\n",
       "        vertical-align: middle;\n",
       "    }\n",
       "\n",
       "    .dataframe tbody tr th {\n",
       "        vertical-align: top;\n",
       "    }\n",
       "\n",
       "    .dataframe thead th {\n",
       "        text-align: right;\n",
       "    }\n",
       "</style>\n",
       "<table border=\"1\" class=\"dataframe\">\n",
       "  <thead>\n",
       "    <tr style=\"text-align: right;\">\n",
       "      <th></th>\n",
       "      <th>菜</th>\n",
       "      <th>好</th>\n",
       "      <th>好</th>\n",
       "      <th>。</th>\n",
       "    </tr>\n",
       "  </thead>\n",
       "  <tbody>\n",
       "    <tr>\n",
       "      <th>adj</th>\n",
       "      <td>-21.907036</td>\n",
       "      <td>-3.535145</td>\n",
       "      <td>-3.758289</td>\n",
       "      <td>-45.687247</td>\n",
       "    </tr>\n",
       "    <tr>\n",
       "      <th>adv</th>\n",
       "      <td>-41.677643</td>\n",
       "      <td>-3.198673</td>\n",
       "      <td>-24.627509</td>\n",
       "      <td>-45.435932</td>\n",
       "    </tr>\n",
       "    <tr>\n",
       "      <th>end</th>\n",
       "      <td>-42.119476</td>\n",
       "      <td>-42.966774</td>\n",
       "      <td>-24.594883</td>\n",
       "      <td>-3.758289</td>\n",
       "    </tr>\n",
       "    <tr>\n",
       "      <th>subj</th>\n",
       "      <td>-1.945910</td>\n",
       "      <td>-44.065386</td>\n",
       "      <td>-44.876317</td>\n",
       "      <td>-45.877765</td>\n",
       "    </tr>\n",
       "  </tbody>\n",
       "</table>\n",
       "</div>"
      ],
      "text/plain": [
       "              菜          好          好          。\n",
       "adj  -21.907036  -3.535145  -3.758289 -45.687247\n",
       "adv  -41.677643  -3.198673 -24.627509 -45.435932\n",
       "end  -42.119476 -42.966774 -24.594883  -3.758289\n",
       "subj  -1.945910 -44.065386 -44.876317 -45.877765"
      ]
     },
     "execution_count": 9,
     "metadata": {},
     "output_type": "execute_result"
    }
   ],
   "source": [
    "pd.DataFrame(dp.T, tags, sentence)"
   ]
  },
  {
   "cell_type": "markdown",
   "metadata": {},
   "source": [
    "#### 节点转移记录矩阵"
   ]
  },
  {
   "cell_type": "code",
   "execution_count": 10,
   "metadata": {},
   "outputs": [
    {
     "data": {
      "text/html": [
       "<div>\n",
       "<style scoped>\n",
       "    .dataframe tbody tr th:only-of-type {\n",
       "        vertical-align: middle;\n",
       "    }\n",
       "\n",
       "    .dataframe tbody tr th {\n",
       "        vertical-align: top;\n",
       "    }\n",
       "\n",
       "    .dataframe thead th {\n",
       "        text-align: right;\n",
       "    }\n",
       "</style>\n",
       "<table border=\"1\" class=\"dataframe\">\n",
       "  <thead>\n",
       "    <tr style=\"text-align: right;\">\n",
       "      <th></th>\n",
       "      <th>菜</th>\n",
       "      <th>好</th>\n",
       "      <th>好</th>\n",
       "      <th>。</th>\n",
       "    </tr>\n",
       "  </thead>\n",
       "  <tbody>\n",
       "    <tr>\n",
       "      <th>adj</th>\n",
       "      <td>-1</td>\n",
       "      <td>3</td>\n",
       "      <td>1</td>\n",
       "      <td>1</td>\n",
       "    </tr>\n",
       "    <tr>\n",
       "      <th>adv</th>\n",
       "      <td>-1</td>\n",
       "      <td>3</td>\n",
       "      <td>1</td>\n",
       "      <td>0</td>\n",
       "    </tr>\n",
       "    <tr>\n",
       "      <th>end</th>\n",
       "      <td>-1</td>\n",
       "      <td>0</td>\n",
       "      <td>0</td>\n",
       "      <td>0</td>\n",
       "    </tr>\n",
       "    <tr>\n",
       "      <th>subj</th>\n",
       "      <td>-1</td>\n",
       "      <td>3</td>\n",
       "      <td>1</td>\n",
       "      <td>0</td>\n",
       "    </tr>\n",
       "  </tbody>\n",
       "</table>\n",
       "</div>"
      ],
      "text/plain": [
       "      菜  好  好  。\n",
       "adj  -1  3  1  1\n",
       "adv  -1  3  1  0\n",
       "end  -1  0  0  0\n",
       "subj -1  3  1  0"
      ]
     },
     "execution_count": 10,
     "metadata": {},
     "output_type": "execute_result"
    }
   ],
   "source": [
    "pd.DataFrame(path.T, tags, sentence)"
   ]
  },
  {
   "cell_type": "markdown",
   "metadata": {},
   "source": [
    "#### 隐态序列标号"
   ]
  },
  {
   "cell_type": "code",
   "execution_count": 11,
   "metadata": {},
   "outputs": [
    {
     "data": {
      "text/plain": [
       "[3, 1, 0, 2]"
      ]
     },
     "execution_count": 11,
     "metadata": {},
     "output_type": "execute_result"
    }
   ],
   "source": [
    "states = [np.argmax(dp[le - 1])]\n",
    "# 从后到前的循环来依次求出每个单词的词性\n",
    "for i in range(le - 2, -1, -1):\n",
    "    states.insert(0, path[i + 1][states[0]])\n",
    "states"
   ]
  },
  {
   "cell_type": "markdown",
   "metadata": {},
   "source": [
    "#### 最终结果打印"
   ]
  },
  {
   "cell_type": "code",
   "execution_count": 12,
   "metadata": {},
   "outputs": [
    {
     "name": "stdout",
     "output_type": "stream",
     "text": [
      "菜 subj\n",
      "好 adv\n",
      "好 adj\n",
      "。 end\n"
     ]
    }
   ],
   "source": [
    "for word, tid in zip(sentence, states):\n",
    "    print(word, id2tag[tid])"
   ]
  },
  {
   "cell_type": "markdown",
   "metadata": {},
   "source": [
    "### 补充：马尔科夫网络、马尔科夫模型、马尔科夫过程、贝叶斯网络的区别\n",
    "1. 将随机变量作为结点，若两个随机变量相关或者不独立，则将二者连接一条边；若给定若干随机变量，则形成一个有向图，即构成一个网络。\n",
    "2. 如果该网络是有向无环图，则这个网络称为`贝叶斯网络`。\n",
    "3. 如果这个图退化成线性链的方式，则得到`马尔科夫模型`；因为每个结点都是随机变量，将其看成各个时刻(或空间)的相关变化，以随机过程的视角，则可以看成是`马尔科夫过程`。\n",
    "4. 若上述网络是无向的，则是无向图模型，又称`马尔科夫随机场`。\n",
    "5. 如果在给定某些条件的前提下，研究这个马尔科夫随机场，则得到`条件随机场`。\n",
    "6. 如果使用条件随机场解决标注问题，并且进一步将条件随机场中的网络拓扑变成线性的，则得到`线性链条件随机场`。"
   ]
  }
 ],
 "metadata": {
  "kernelspec": {
   "display_name": "Python 3",
   "language": "python",
   "name": "python3"
  },
  "language_info": {
   "codemirror_mode": {
    "name": "ipython",
    "version": 3
   },
   "file_extension": ".py",
   "mimetype": "text/x-python",
   "name": "python",
   "nbconvert_exporter": "python",
   "pygments_lexer": "ipython3",
   "version": "3.6.8"
  }
 },
 "nbformat": 4,
 "nbformat_minor": 2
}
