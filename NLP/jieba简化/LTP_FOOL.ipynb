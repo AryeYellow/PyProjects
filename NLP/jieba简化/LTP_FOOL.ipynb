{
 "cells": [
  {
   "cell_type": "markdown",
   "metadata": {},
   "source": [
    "# `L`anguage `T`echnology `P`latform\n",
    "https://ltp.readthedocs.io/zh_CN/latest/index.html"
   ]
  },
  {
   "cell_type": "code",
   "execution_count": 1,
   "metadata": {},
   "outputs": [],
   "source": [
    "import os"
   ]
  },
  {
   "cell_type": "code",
   "execution_count": 2,
   "metadata": {},
   "outputs": [],
   "source": [
    "PATH = 'ltp_data_v3.4.0/'  # https://pan.baidu.com/share/link?shareid=1988562907&uk=2738088569#list/path=%2F\n",
    "CWS_MODEL = PATH + 'cws.model'  # 分词\n",
    "MD5_TXT = PATH + 'md5.txt'\n",
    "NER_MODEL = PATH + 'ner.model'  # 命名实体识别\n",
    "PARSER_MODEL = PATH + 'parser.model'  # 依存句法分析\n",
    "PISRL_MODEL = PATH + 'pisrl.model'  # 语义角色标注\n",
    "POS_MODEL = PATH + 'pos.model'  # 词性标注\n",
    "VERSION = PATH + 'version'\n",
    "TMP = PATH + 'temporary.txt'"
   ]
  },
  {
   "cell_type": "code",
   "execution_count": 3,
   "metadata": {},
   "outputs": [
    {
     "name": "stdout",
     "output_type": "stream",
     "text": [
      "版本：3.4.0\n"
     ]
    }
   ],
   "source": [
    "with open(VERSION) as f:\n",
    "    print('版本：%s' % f.read().strip())"
   ]
  },
  {
   "cell_type": "code",
   "execution_count": 4,
   "metadata": {},
   "outputs": [],
   "source": [
    "SEP = '  '"
   ]
  },
  {
   "cell_type": "code",
   "execution_count": 5,
   "metadata": {},
   "outputs": [],
   "source": [
    "text = '梁山泊林冲落草。汴京城杨志卖刀。'"
   ]
  },
  {
   "cell_type": "code",
   "execution_count": 6,
   "metadata": {},
   "outputs": [],
   "source": [
    "# 新建外部词典\n",
    "with open(TMP, 'w', encoding='utf-8') as f:\n",
    "    f.write('梁山泊 ns\\n林冲 nh\\n落草 v\\n汴京城 ns')"
   ]
  },
  {
   "cell_type": "markdown",
   "metadata": {},
   "source": [
    "### 分句"
   ]
  },
  {
   "cell_type": "code",
   "execution_count": 7,
   "metadata": {},
   "outputs": [
    {
     "name": "stdout",
     "output_type": "stream",
     "text": [
      "梁山泊林冲落草。  汴京城杨志卖刀。\n"
     ]
    }
   ],
   "source": [
    "from pyltp import SentenceSplitter\n",
    "sentences = SentenceSplitter.split(text)\n",
    "print(SEP.join(sentences))"
   ]
  },
  {
   "cell_type": "markdown",
   "metadata": {},
   "source": [
    "### 分词"
   ]
  },
  {
   "cell_type": "code",
   "execution_count": 8,
   "metadata": {},
   "outputs": [
    {
     "name": "stdout",
     "output_type": "stream",
     "text": [
      "梁山  泊林  冲  落  草  。  汴  京城  杨志  卖  刀  。\n"
     ]
    }
   ],
   "source": [
    "from pyltp import Segmentor\n",
    "segmentor = Segmentor()  # 初始化实例\n",
    "segmentor.load(CWS_MODEL)  # 读取模型\n",
    "words = segmentor.segment(text)  # 分词\n",
    "segmentor.release()  # 释放模型\n",
    "print(SEP.join(words))"
   ]
  },
  {
   "cell_type": "markdown",
   "metadata": {},
   "source": [
    "### 外部词典加载"
   ]
  },
  {
   "cell_type": "code",
   "execution_count": 9,
   "metadata": {},
   "outputs": [
    {
     "name": "stdout",
     "output_type": "stream",
     "text": [
      "梁山泊  林冲  落草  。  汴京城  杨志  卖  刀  。\n"
     ]
    }
   ],
   "source": [
    "segmentor = Segmentor()  # 初始化实例\n",
    "segmentor.load_with_lexicon(CWS_MODEL, TMP)  # 第2个参数是外部词典路径\n",
    "words = list(segmentor.segment(text))  # 分词\n",
    "segmentor.release()  # 释放模型\n",
    "print(SEP.join(words))"
   ]
  },
  {
   "cell_type": "markdown",
   "metadata": {},
   "source": [
    "### 词性标注"
   ]
  },
  {
   "cell_type": "code",
   "execution_count": 10,
   "metadata": {},
   "outputs": [
    {
     "name": "stdout",
     "output_type": "stream",
     "text": [
      "ns  nh  v  wp  ns  nh  v  n  wp\n"
     ]
    }
   ],
   "source": [
    "from pyltp import Postagger\n",
    "postagger = Postagger()  # 初始化实例\n",
    "postagger.load_with_lexicon(POS_MODEL, TMP)  # 第2个参数是外部词典路径\n",
    "postags = list(postagger.postag(words))  # 词性标注\n",
    "postagger.release()  # 释放模型\n",
    "print(SEP.join(postags))"
   ]
  },
  {
   "cell_type": "markdown",
   "metadata": {},
   "source": [
    "### 命名实体识别"
   ]
  },
  {
   "cell_type": "code",
   "execution_count": 11,
   "metadata": {},
   "outputs": [
    {
     "name": "stdout",
     "output_type": "stream",
     "text": [
      "S-Ns  S-Nh  O  O  S-Ns  S-Nh  O  O  O\n"
     ]
    }
   ],
   "source": [
    "from pyltp import NamedEntityRecognizer\n",
    "recognizer = NamedEntityRecognizer()  # 初始化实例\n",
    "recognizer.load(NER_MODEL)  # 加载模型\n",
    "netags = recognizer.recognize(words, postags)  # 命名实体识别\n",
    "recognizer.release()  # 释放模型\n",
    "print(SEP.join(netags))"
   ]
  },
  {
   "cell_type": "markdown",
   "metadata": {},
   "source": [
    "### 依存句法分析"
   ]
  },
  {
   "cell_type": "code",
   "execution_count": 12,
   "metadata": {
    "scrolled": true
   },
   "outputs": [
    {
     "name": "stdout",
     "output_type": "stream",
     "text": [
      "2:ATT  3:SBV  0:HED  3:WP  6:ATT  7:SBV  3:COO  7:VOB  3:WP\n"
     ]
    }
   ],
   "source": [
    "from pyltp import Parser\n",
    "parser = Parser() # 初始化实例\n",
    "parser.load(PARSER_MODEL)  # 加载模型\n",
    "arcs = parser.parse(words, postags)  # 句法分析\n",
    "parser.release()  # 释放模型\n",
    "print(SEP.join('%d:%s' % (arc.head, arc.relation) for arc in arcs))"
   ]
  },
  {
   "cell_type": "markdown",
   "metadata": {},
   "source": [
    "#### 删除外部词典"
   ]
  },
  {
   "cell_type": "code",
   "execution_count": 13,
   "metadata": {},
   "outputs": [],
   "source": [
    "os.remove(TMP)"
   ]
  },
  {
   "cell_type": "markdown",
   "metadata": {},
   "source": [
    "# `Fool`NLTK\n",
    "- pip install foolnltk\n",
    "- 没有其它要下载的"
   ]
  },
  {
   "cell_type": "code",
   "execution_count": 1,
   "metadata": {},
   "outputs": [],
   "source": [
    "from warnings import filterwarnings\n",
    "filterwarnings('ignore')  # 不打印警告\n",
    "import fool, os"
   ]
  },
  {
   "cell_type": "code",
   "execution_count": 2,
   "metadata": {},
   "outputs": [],
   "source": [
    "text = '王熙凤毒设相思局。贾天祥正照风月镜。'"
   ]
  },
  {
   "cell_type": "code",
   "execution_count": 3,
   "metadata": {},
   "outputs": [],
   "source": [
    "# 新建外部词典\n",
    "TMP = 'temporary.txt'\n",
    "with open(TMP, 'w') as f:  # gbk编码\n",
    "    f.write('王熙凤 2\\n贾天祥 2\\n风月镜 2')"
   ]
  },
  {
   "cell_type": "markdown",
   "metadata": {},
   "source": [
    "### 分词"
   ]
  },
  {
   "cell_type": "code",
   "execution_count": 4,
   "metadata": {},
   "outputs": [
    {
     "name": "stdout",
     "output_type": "stream",
     "text": [
      "[['王熙凤毒', '设', '相思', '局', '。', '贾天祥', '正', '照风月', '镜', '。']]\n"
     ]
    }
   ],
   "source": [
    "print(fool.cut(text))"
   ]
  },
  {
   "cell_type": "markdown",
   "metadata": {},
   "source": [
    "### 自定义词典"
   ]
  },
  {
   "cell_type": "code",
   "execution_count": 5,
   "metadata": {},
   "outputs": [
    {
     "name": "stdout",
     "output_type": "stream",
     "text": [
      "[['王熙凤', '毒', '设', '相思', '局', '。', '贾天祥', '正', '照', '风月镜', '。']]\n"
     ]
    }
   ],
   "source": [
    "fool.load_userdict(TMP)\n",
    "print(fool.cut(text))"
   ]
  },
  {
   "cell_type": "markdown",
   "metadata": {},
   "source": [
    "### 词性标注"
   ]
  },
  {
   "cell_type": "code",
   "execution_count": 6,
   "metadata": {},
   "outputs": [
    {
     "name": "stdout",
     "output_type": "stream",
     "text": [
      "[[('王熙凤', 'n'), ('毒', 'n'), ('设', 'v'), ('相思', 'vi'), ('局', 'n'), ('。', 'wj'), ('贾天祥', 'n'), ('正', 'd'), ('照', 'v'), ('风月镜', 'n'), ('。', 'wj')]]\n"
     ]
    }
   ],
   "source": [
    "print(fool.pos_cut(text))"
   ]
  },
  {
   "cell_type": "markdown",
   "metadata": {},
   "source": [
    "### 实体识别"
   ]
  },
  {
   "cell_type": "code",
   "execution_count": 7,
   "metadata": {},
   "outputs": [
    {
     "name": "stdout",
     "output_type": "stream",
     "text": [
      "[('王熙凤毒', 'nr'), ('设', 'v'), ('相思', 'vi'), ('局', 'n'), ('。', 'wj'), ('贾天祥', 'n'), ('正', 'a'), ('照风月', 'n'), ('镜', 'n'), ('。', 'wj')]\n",
      "[(0, 4, 'person', '王熙凤'), (9, 13, 'person', '贾天祥')]\n"
     ]
    }
   ],
   "source": [
    "words, ners = fool.analysis(text)\n",
    "print(words[0], ners[0], sep='\\n')"
   ]
  },
  {
   "cell_type": "markdown",
   "metadata": {},
   "source": [
    "#### 删除外部词典"
   ]
  },
  {
   "cell_type": "code",
   "execution_count": 8,
   "metadata": {
    "scrolled": true
   },
   "outputs": [],
   "source": [
    "os.remove(TMP)"
   ]
  },
  {
   "cell_type": "markdown",
   "metadata": {},
   "source": [
    "# jieba\n",
    "https://blog.csdn.net/yellow_python/article/details/80559586"
   ]
  }
 ],
 "metadata": {
  "kernelspec": {
   "display_name": "Python 3",
   "language": "python",
   "name": "python3"
  },
  "language_info": {
   "codemirror_mode": {
    "name": "ipython",
    "version": 3
   },
   "file_extension": ".py",
   "mimetype": "text/x-python",
   "name": "python",
   "nbconvert_exporter": "python",
   "pygments_lexer": "ipython3",
   "version": "3.6.8"
  }
 },
 "nbformat": 4,
 "nbformat_minor": 2
}
