{
 "cells": [
  {
   "cell_type": "markdown",
   "metadata": {},
   "source": [
    "# 词向量\n",
    "https://blog.csdn.net/Yellow_python/article/details/84347878"
   ]
  },
  {
   "cell_type": "code",
   "execution_count": 1,
   "metadata": {},
   "outputs": [
    {
     "name": "stderr",
     "output_type": "stream",
     "text": [
      "Building prefix dict from the default dictionary ...\n",
      "Loading model from cache C:\\Users\\ADMINI~1\\AppData\\Local\\Temp\\1\\jieba.cache\n",
      "Loading model cost 1.132 seconds.\n",
      "Prefix dict has been built succesfully.\n"
     ]
    }
   ],
   "source": [
    "from warnings import filterwarnings\n",
    "filterwarnings('ignore')  # 不打印警告\n",
    "from jieba import lcut\n",
    "from gensim.models import Word2Vec\n",
    "\n",
    "with open('data.txt', encoding='utf-8') as f:\n",
    "    sentences = [lcut(s) for s in f.readlines()]\n",
    "model = Word2Vec(sentences, window=10)"
   ]
  },
  {
   "cell_type": "markdown",
   "metadata": {},
   "source": [
    "参数 | 解释 | 默认值\n",
    "-|-|-\n",
    "sentences | list of lists of tokens | None\n",
    "size | 词向量维数 | 100\n",
    "window | 同句中当前词和预测词的最大距离 | 5\n",
    "min_count | 最低词频过滤 | 5\n",
    "workers | 线程数 | 3\n",
    "sg | 0：CBOW；1：skip-gram | 0\n",
    "hs | 1：层次softmax；0：负例采样 | 0\n",
    "negative | 负例样本数 | 5\n",
    "ns_exponent | The exponent used to shape the negative sampling distribution | 0.75\n",
    "cbow_mean | 0：上下文词向量求和值；1：上下文词向量平均值 | 1\n",
    "alpha | 初始学习率 | 0.025\n",
    "min_alpha | 最小学习率 | 0.0001"
   ]
  },
  {
   "cell_type": "code",
   "execution_count": 2,
   "metadata": {},
   "outputs": [
    {
     "data": {
      "text/plain": [
       "[('证件', 0.9155412912368774),\n",
       " ('准考证', 0.9093627333641052),\n",
       " ('原件', 0.8911137580871582),\n",
       " ('书面材料', 0.8759361505508423)]"
      ]
     },
     "execution_count": 2,
     "metadata": {},
     "output_type": "execute_result"
    }
   ],
   "source": [
    "model.wv.similar_by_word('身份证', topn=4)"
   ]
  },
  {
   "cell_type": "code",
   "execution_count": 3,
   "metadata": {},
   "outputs": [
    {
     "data": {
      "text/plain": [
       "0.9093627"
      ]
     },
     "execution_count": 3,
     "metadata": {},
     "output_type": "execute_result"
    }
   ],
   "source": [
    "model.wv.similarity('身份证', '准考证')"
   ]
  },
  {
   "cell_type": "code",
   "execution_count": 4,
   "metadata": {},
   "outputs": [
    {
     "data": {
      "text/plain": [
       "(100,)"
      ]
     },
     "execution_count": 4,
     "metadata": {},
     "output_type": "execute_result"
    }
   ],
   "source": [
    "vec = model.wv.get_vector('身份证')\n",
    "vec.shape"
   ]
  },
  {
   "cell_type": "code",
   "execution_count": 5,
   "metadata": {},
   "outputs": [
    {
     "data": {
      "text/plain": [
       "[('身份证', 1.0), ('证件', 0.9155412912368774), ('准考证', 0.9093626737594604)]"
      ]
     },
     "execution_count": 5,
     "metadata": {},
     "output_type": "execute_result"
    }
   ],
   "source": [
    "model.wv.similar_by_vector(vec, 3)"
   ]
  },
  {
   "cell_type": "code",
   "execution_count": 6,
   "metadata": {},
   "outputs": [
    {
     "data": {
      "text/plain": [
       "(67490, 100)"
      ]
     },
     "execution_count": 6,
     "metadata": {},
     "output_type": "execute_result"
    }
   ],
   "source": [
    "model.wv.vectors.shape"
   ]
  },
  {
   "cell_type": "code",
   "execution_count": 7,
   "metadata": {},
   "outputs": [
    {
     "data": {
      "text/plain": [
       "67490"
      ]
     },
     "execution_count": 7,
     "metadata": {},
     "output_type": "execute_result"
    }
   ],
   "source": [
    "model.wv.index2word.__len__()"
   ]
  },
  {
   "cell_type": "code",
   "execution_count": 8,
   "metadata": {},
   "outputs": [
    {
     "data": {
      "text/plain": [
       "[('身份证', 0.06272127),\n",
       " ('准考证', 0.054813985),\n",
       " ('附件', 0.017388288),\n",
       " ('填写', 0.012229511),\n",
       " ('查询', 0.010383278),\n",
       " ('报名费', 0.010134449),\n",
       " ('证件', 0.009735247),\n",
       " ('报名表', 0.009292464),\n",
       " ('办理', 0.00911228),\n",
       " ('用户名', 0.008987774)]"
      ]
     },
     "execution_count": 8,
     "metadata": {},
     "output_type": "execute_result"
    }
   ],
   "source": [
    "model.predict_output_word(['身份证', '准考证'])"
   ]
  },
  {
   "cell_type": "markdown",
   "metadata": {},
   "source": [
    "## 词向量可视化\n",
    "词向量可解释性：`低`"
   ]
  },
  {
   "cell_type": "code",
   "execution_count": 1,
   "metadata": {},
   "outputs": [
    {
     "data": {
      "text/plain": [
       "<matplotlib.axes._subplots.AxesSubplot at 0x11668390>"
      ]
     },
     "execution_count": 1,
     "metadata": {},
     "output_type": "execute_result"
    },
    {
     "data": {
      "image/png": "[encoded data removed]",
      "text/plain": [
       "<Figure size 432x288 with 2 Axes>"
      ]
     },
     "metadata": {},
     "output_type": "display_data"
    }
   ],
   "source": [
    "from warnings import filterwarnings\n",
    "filterwarnings('ignore')  # 不打印警告\n",
    "%matplotlib inline\n",
    "from gensim.models import Word2Vec\n",
    "from seaborn import heatmap\n",
    "\n",
    "n, m = 10, 1000\n",
    "sentences = [\n",
    "    ''.join(chr(i) for i in range(40, 50)) * n,\n",
    "    ''.join(chr(i) for i in range(50, 60)) * n,\n",
    "    ''.join(chr(i) for i in range(60, 70)) * n,\n",
    "    ''.join(chr(i) for i in range(70, 80)) * n,\n",
    "    ''.join(chr(i) for i in range(80, 90)) * n,\n",
    "] * n * m\n",
    "model = Word2Vec(sentences, size=5, window=15, hs=1, sorted_vocab=0, cbow_mean=0)\n",
    "vectors = model.wv.vectors\n",
    "\n",
    "heatmap(vectors, center=vectors.max())"
   ]
  },
  {
   "cell_type": "code",
   "execution_count": 1,
   "metadata": {},
   "outputs": [
    {
     "data": {
      "text/plain": [
       "<matplotlib.axes._subplots.AxesSubplot at 0x1187e8d0>"
      ]
     },
     "execution_count": 1,
     "metadata": {},
     "output_type": "execute_result"
    },
    {
     "data": {
      "image/png": "[encoded data removed]",
      "text/plain": [
       "<Figure size 432x288 with 2 Axes>"
      ]
     },
     "metadata": {},
     "output_type": "display_data"
    }
   ],
   "source": [
    "model = Word2Vec(sentences, size=5, window=15, sg=1, hs=1, sorted_vocab=0, cbow_mean=0)\n",
    "vectors = model.wv.vectors\n",
    "heatmap(vectors, center=vectors.max())"
   ]
  },
  {
   "cell_type": "markdown",
   "metadata": {},
   "source": [
    "# 字向量"
   ]
  },
  {
   "cell_type": "code",
   "execution_count": 1,
   "metadata": {},
   "outputs": [
    {
     "name": "stderr",
     "output_type": "stream",
     "text": [
      "Building prefix dict from the default dictionary ...\n",
      "Loading model from cache C:\\Users\\ADMINI~1\\AppData\\Local\\Temp\\1\\jieba.cache\n",
      "Loading model cost 1.253 seconds.\n",
      "Prefix dict has been built succesfully.\n"
     ]
    }
   ],
   "source": [
    "from warnings import filterwarnings\n",
    "filterwarnings('ignore')  # 不打印警告\n",
    "import numpy as np\n",
    "from jieba import lcut\n",
    "from gensim.models import Word2Vec\n",
    "\n",
    "def chr2vec(word2vec=False):\n",
    "    with open('data.txt', encoding='utf-8') as f:\n",
    "        sentences = [lcut(s) for s in f.readlines()] if word2vec else f.readlines()\n",
    "    return Word2Vec(sentences, window=10, min_count=2)\n",
    "\n",
    "w2v = chr2vec(word2vec=True)  # 词向量\n",
    "c2v = chr2vec()  # 字向量"
   ]
  },
  {
   "cell_type": "markdown",
   "metadata": {},
   "source": [
    "### 字向量和词向量嘅关系：\n",
    "`冇乜卵关系`"
   ]
  },
  {
   "cell_type": "code",
   "execution_count": 2,
   "metadata": {},
   "outputs": [
    {
     "name": "stdout",
     "output_type": "stream",
     "text": [
      "输入词语：电动车\n",
      "余弦相似度（字向量相加） -0.059150364\n",
      "余弦相似度（字向量平均） -0.05915035\n",
      "[('电动汽车', 0.7713425159454346), ('纯', 0.7606891989707947), ('核心技术', 0.6353178024291992), ('燃料电池', 0.6251661777496338)]\n",
      "输入词语：身份证\n",
      "余弦相似度（字向量相加） -0.12499108\n",
      "余弦相似度（字向量平均） -0.124991104\n",
      "[('证件', 0.9329153299331665), ('准考证', 0.9220209717750549), ('原件', 0.904299259185791), ('填写', 0.8965921401977539)]\n",
      "输入词语：核心技术\n",
      "余弦相似度（字向量相加） -0.071450144\n",
      "余弦相似度（字向量平均） -0.071450144\n",
      "[('规模化', 0.7545690536499023), ('产业化', 0.712794303894043), ('技术创新', 0.7046120166778564), ('关键技术', 0.702349066734314)]\n",
      "输入词语：居民\n",
      "余弦相似度（字向量相加） 0.12795967\n",
      "余弦相似度（字向量平均） 0.12795967\n",
      "[('老年人', 0.7776780724525452), ('子女', 0.7423837184906006), ('居住', 0.7091993689537048), ('物资', 0.6898789405822754)]\n"
     ]
    }
   ],
   "source": [
    "get_vector = lambda model, word: model.wv.word_vec(word)\n",
    "cosine_similarity = lambda vec1, vec2: vec1 @ vec2 / (np.linalg.norm(vec1) * np.linalg.norm(vec2))\n",
    "\n",
    "for _ in range(4):\n",
    "    word = input('输入词语：').strip()\n",
    "    v1 = get_vector(w2v, word)\n",
    "    v2 = np.sum([get_vector(c2v, c) for c in word], axis=0)\n",
    "    print('余弦相似度（字向量相加）', cosine_similarity(v1, v2))\n",
    "    v2 = np.mean([get_vector(c2v, c) for c in word], axis=0)\n",
    "    print('余弦相似度（字向量平均）', cosine_similarity(v1, v2))\n",
    "    print(w2v.similar_by_word(word, topn=4))"
   ]
  },
  {
   "cell_type": "markdown",
   "metadata": {},
   "source": [
    "### 文本生成（现代文）"
   ]
  },
  {
   "cell_type": "code",
   "execution_count": 3,
   "metadata": {},
   "outputs": [
    {
     "name": "stdout",
     "output_type": "stream",
     "text": [
      "输入文本：找女朋友\n",
      "\u001b[035m词向量模型\u001b[0m\n",
      "找回家吃饭上班家里午饭睡觉儿子吃房子出差出门老人喝酒哥哥母亲空饷亲戚老公父亲赶紧女儿送陪某某\n",
      "\u001b[035m字向量模型\u001b[0m\n",
      "要寻想我找需思茬求追渚僮们唧窨你砭孫嗝岘煦叁焯吮楞\n",
      "输入文本：长眉大眼妆，甜美中透出强大气场\n",
      "\u001b[035m词向量模型\u001b[0m\n",
      "美对抗战役发挥韩激烈比赛一场胜利主场对阵对手争夺客场决赛一战胜出这场较量击败激战战胜复仇小组赛胜负\n",
      "\u001b[035m字向量模型\u001b[0m\n",
      "国韩杯挲洲欧冠铩赛联盟亚夺军锦峒汨砧仝蓁琊擘裾頗靛\n",
      "输入文本：房地产投资下滑\n",
      "\u001b[035m词向量模型\u001b[0m\n",
      "房地产放缓同比下降下滑一季度增幅增长第三季度三季度收入去年同期增速环比增长率gdp净利润营收利润率持平录得亏损产量利润二季度\n",
      "'NoneType' object is not iterable\n",
      "输入文本：宏观经济周期形势变化\n",
      "\u001b[035m词向量模型\u001b[0m\n",
      "态势下状态变化发生背景经济运行形势恶化宏观经济下行分化低迷局势好转复苏剧烈回暖放缓格局严峻天气通缩动荡疲软\n",
      "'NoneType' object is not iterable\n"
     ]
    }
   ],
   "source": [
    "from random import choice\n",
    "\n",
    "def text_generate(text, model, length=25, freedom=10):\n",
    "    seq = lcut(text)\n",
    "    len_origin = len(seq)\n",
    "    for i in range(length):\n",
    "        chrs = model.predict_output_word(seq, max(freedom, len(seq)+1))\n",
    "        char = choice([i[0] for i in chrs if i[0] not in seq[len_origin:]])\n",
    "        seq.append(char)\n",
    "    return ''.join(seq[len_origin:])\n",
    "\n",
    "for _ in range(4):\n",
    "    try:\n",
    "        text = input('输入文本：').strip()\n",
    "        print('\\033[035m词向量模型\\033[0m', text_generate(text, w2v), sep='\\n')\n",
    "        print('\\033[035m字向量模型\\033[0m', text_generate(text, c2v), sep='\\n')\n",
    "    except Exception as e:\n",
    "        print(e)"
   ]
  },
  {
   "cell_type": "markdown",
   "metadata": {},
   "source": [
    "# 训练速度比较\n",
    "CBOW和skip gram"
   ]
  },
  {
   "cell_type": "code",
   "execution_count": 1,
   "metadata": {},
   "outputs": [
    {
     "name": "stderr",
     "output_type": "stream",
     "text": [
      "D:\\Software\\Anaconda3\\lib\\site-packages\\gensim\\utils.py:1209: UserWarning: detected Windows; aliasing chunkize to chunkize_serial\n",
      "  warnings.warn(\"detected Windows; aliasing chunkize to chunkize_serial\")\n"
     ]
    },
    {
     "name": "stdout",
     "output_type": "stream",
     "text": [
      "cbow-negative sampling     2.3681352138519287\n",
      "sg-negative sampling       6.0213446617126465\n",
      "cbow-hierarchical softmax  3.702211856842041\n",
      "sg-hierarchical softmax    11.673667430877686\n"
     ]
    }
   ],
   "source": [
    "from gensim.models import Word2Vec\n",
    "from time import time\n",
    "sentences = [[chr(i) for i in range(99)]] * 9999\n",
    "t0 = time()\n",
    "Word2Vec(sentences)\n",
    "t1 = time()\n",
    "Word2Vec(sentences, sg=1)\n",
    "t2 = time()\n",
    "Word2Vec(sentences, hs=1)\n",
    "t3 = time()\n",
    "Word2Vec(sentences, sg=1, hs=1)\n",
    "t4 = time()\n",
    "print('cbow-negative sampling    ', t1 - t0)\n",
    "print('sg-negative sampling      ', t2 - t1)\n",
    "print('cbow-hierarchical softmax ', t3 - t2)\n",
    "print('sg-hierarchical softmax   ', t4 - t3)"
   ]
  }
 ],
 "metadata": {
  "kernelspec": {
   "display_name": "Python 3",
   "language": "python",
   "name": "python3"
  },
  "language_info": {
   "codemirror_mode": {
    "name": "ipython",
    "version": 3
   },
   "file_extension": ".py",
   "mimetype": "text/x-python",
   "name": "python",
   "nbconvert_exporter": "python",
   "pygments_lexer": "ipython3",
   "version": "3.6.8"
  }
 },
 "nbformat": 4,
 "nbformat_minor": 2
}
