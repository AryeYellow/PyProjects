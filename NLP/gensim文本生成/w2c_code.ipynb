{
 "cells": [
  {
   "cell_type": "markdown",
   "metadata": {},
   "source": [
    "# 词向量\n",
    "- 基本用法\n",
    "- 文本生成\n",
    "- 可视化\n",
    "- 字向量"
   ]
  },
  {
   "cell_type": "markdown",
   "metadata": {},
   "source": [
    "## 原理图\n",
    "神经网络语言模型结构示意图：输入层、投影层、隐藏层、输出层\n",
    "\n",
    "![](https://img-blog.csdnimg.cn/20181204083721622.png?x-oss-process=image/watermark,type_ZmFuZ3poZW5naGVpdGk,shadow_30,text_aHR0cHM6Ly9ibG9nLmNzZG4ubmV0L1llbGxvd19weXRob24=,size_16,color_FFFFFF,t_70)\n",
    "\n",
    "模型简化\n",
    "![](https://img-blog.csdnimg.cn/20181204205825523.png?x-oss-process=image/watermark,type_ZmFuZ3poZW5naGVpdGk,shadow_30,text_aHR0cHM6Ly9ibG9nLmNzZG4ubmV0L1llbGxvd19weXRob24=,size_16,color_FFFFFF,t_70)"
   ]
  },
  {
   "cell_type": "markdown",
   "metadata": {},
   "source": [
    "## 基本用法\n",
    "https://blog.csdn.net/Yellow_python/article/details/84347878"
   ]
  },
  {
   "cell_type": "code",
   "execution_count": 1,
   "metadata": {},
   "outputs": [],
   "source": [
    "from warnings import filterwarnings\n",
    "filterwarnings('ignore')  # 不打印警告\n",
    "from jieba import lcut\n",
    "from gensim.models import Word2Vec"
   ]
  },
  {
   "cell_type": "code",
   "execution_count": 19,
   "metadata": {},
   "outputs": [
    {
     "data": {
      "text/plain": [
       "'北京时间TIMETIME晚，赛季cba联赛继续第轮角逐，坐镇主场的北京男篮经过四节较量以战胜广厦男篮，取得连胜并报了常规赛上半程不敌对手的一箭之仇'"
      ]
     },
     "execution_count": 19,
     "metadata": {},
     "output_type": "execute_result"
    }
   ],
   "source": [
    "# 数据读取\n",
    "with open('news.txt', encoding='utf-8') as f:\n",
    "    sentences = [lcut(s) for s in f.read().strip().split('\\n')]\n",
    "''.join(sentences[-1])"
   ]
  },
  {
   "cell_type": "code",
   "execution_count": 5,
   "metadata": {},
   "outputs": [],
   "source": [
    "# 建模训练\n",
    "model = Word2Vec(sentences, window=9)\n",
    "wv = model.wv"
   ]
  },
  {
   "cell_type": "markdown",
   "metadata": {},
   "source": [
    "参数 | 解释 | 默认值\n",
    "-|-|-\n",
    "sentences | list of lists of tokens | None\n",
    "size | 词向量维数 | 100\n",
    "window | 同句中当前词和预测词的最大距离 | 5\n",
    "min_count | 最低词频过滤 | 5\n",
    "workers | 线程数 | 3\n",
    "sg | 0：CBOW；1：skip-gram | 0\n",
    "hs | 1：层次softmax；0：负例采样 | 0\n",
    "negative | 负例样本数 | 5\n",
    "ns_exponent | The exponent used to shape the negative sampling distribution | 0.75\n",
    "cbow_mean | 0：上下文词向量求和值；1：上下文词向量平均值 | 1\n",
    "alpha | 初始学习率 | 0.025\n",
    "min_alpha | 最小学习率 | 0.0001"
   ]
  },
  {
   "cell_type": "code",
   "execution_count": 26,
   "metadata": {},
   "outputs": [
    {
     "data": {
      "text/plain": [
       "[('证件', 0.919139564037323),\n",
       " ('准考证', 0.9092125296592712),\n",
       " ('原件', 0.89948970079422),\n",
       " ('书面材料', 0.889183759689331)]"
      ]
     },
     "execution_count": 26,
     "metadata": {},
     "output_type": "execute_result"
    }
   ],
   "source": [
    "wv.similar_by_word('身份证', topn=4)  # 某个词的相似词"
   ]
  },
  {
   "cell_type": "code",
   "execution_count": 7,
   "metadata": {},
   "outputs": [
    {
     "data": {
      "text/plain": [
       "0.90921247"
      ]
     },
     "execution_count": 7,
     "metadata": {},
     "output_type": "execute_result"
    }
   ],
   "source": [
    "wv.similarity('身份证', '准考证')  # 两个词的相似度"
   ]
  },
  {
   "cell_type": "code",
   "execution_count": 8,
   "metadata": {},
   "outputs": [
    {
     "data": {
      "text/plain": [
       "(100,)"
      ]
     },
     "execution_count": 8,
     "metadata": {},
     "output_type": "execute_result"
    }
   ],
   "source": [
    "wv.get_vector('身份证').shape  # 词 --> 词向量（维度查看）"
   ]
  },
  {
   "cell_type": "code",
   "execution_count": 23,
   "metadata": {},
   "outputs": [
    {
     "data": {
      "text/plain": [
       "[('身份证', 1.0), ('证件', 0.919139564037323), ('准考证', 0.9092125296592712)]"
      ]
     },
     "execution_count": 23,
     "metadata": {},
     "output_type": "execute_result"
    }
   ],
   "source": [
    "wv.similar_by_vector(vec, 3)  # 某个词向量的相似词"
   ]
  },
  {
   "cell_type": "code",
   "execution_count": 10,
   "metadata": {},
   "outputs": [
    {
     "data": {
      "text/plain": [
       "(67489, 100)"
      ]
     },
     "execution_count": 10,
     "metadata": {},
     "output_type": "execute_result"
    }
   ],
   "source": [
    "wv.vectors.shape  # 词向量集（词矩阵）"
   ]
  },
  {
   "cell_type": "code",
   "execution_count": 22,
   "metadata": {},
   "outputs": [
    {
     "data": {
      "text/plain": [
       "['，', '的', '在', '了', '是', '和', 'TIME', '：', '也', '有', '中国', '为', '将', '与', '中']"
      ]
     },
     "execution_count": 22,
     "metadata": {},
     "output_type": "execute_result"
    }
   ],
   "source": [
    "wv.index2word[:15]  # 词列表（部分展示）"
   ]
  },
  {
   "cell_type": "code",
   "execution_count": 11,
   "metadata": {},
   "outputs": [
    {
     "data": {
      "text/plain": [
       "67489"
      ]
     },
     "execution_count": 11,
     "metadata": {},
     "output_type": "execute_result"
    }
   ],
   "source": [
    "wv.index2word.__len__()  # 词总数"
   ]
  },
  {
   "cell_type": "code",
   "execution_count": 27,
   "metadata": {},
   "outputs": [
    {
     "data": {
      "text/plain": [
       "[('准考证', 0.052992545),\n",
       " ('身份证', 0.040961884),\n",
       " ('查询', 0.023644874),\n",
       " ('办理', 0.021465328),\n",
       " ('填写', 0.016910722)]"
      ]
     },
     "execution_count": 27,
     "metadata": {},
     "output_type": "execute_result"
    }
   ],
   "source": [
    "model.predict_output_word(['身份证', '准考证'], 5)  # 用句子来预测词"
   ]
  },
  {
   "cell_type": "markdown",
   "metadata": {},
   "source": [
    "## 文本生成（写诗小程序）\n",
    "https://blog.csdn.net/Yellow_python/article/details/86726619"
   ]
  },
  {
   "cell_type": "code",
   "execution_count": 1,
   "metadata": {},
   "outputs": [
    {
     "name": "stderr",
     "output_type": "stream",
     "text": [
      "D:\\Software\\Anaconda3\\lib\\site-packages\\gensim\\utils.py:1209: UserWarning: detected Windows; aliasing chunkize to chunkize_serial\n",
      "  warnings.warn(\"detected Windows; aliasing chunkize to chunkize_serial\")\n"
     ]
    }
   ],
   "source": [
    "from gensim.models import Word2Vec  # 词向量\n",
    "from random import choice\n",
    "from os.path import exists\n",
    "from warnings import filterwarnings\n",
    "filterwarnings('ignore')  # 不打印警告"
   ]
  },
  {
   "cell_type": "code",
   "execution_count": 2,
   "metadata": {},
   "outputs": [],
   "source": [
    "class CONF:\n",
    "    path = 'poem.txt'  # 语料路径\n",
    "    window = 16  # 滑窗大小\n",
    "    min_count = 60  # 过滤低频字\n",
    "    size = 125  # 词向量维度\n",
    "    topn = 14  # 生成诗词的开放度\n",
    "    model_path = 'word2vec'  # 模型路径"
   ]
  },
  {
   "cell_type": "code",
   "execution_count": 3,
   "metadata": {},
   "outputs": [],
   "source": [
    "class Model:\n",
    "    def __init__(self, window, topn, model):\n",
    "        self.window = window\n",
    "        self.topn = topn\n",
    "        self.model = model  # 词向量模型\n",
    "        self.chr_dict = model.wv.index2word  # 字典\n",
    "    \"\"\"模型初始化\"\"\"\n",
    "    @classmethod\n",
    "    def initialize(cls, config):\n",
    "        if exists(config.model_path):\n",
    "            model = Word2Vec.load(config.model_path)  # 模型读取\n",
    "        else:\n",
    "            # 语料读取\n",
    "            with open(config.path, encoding='utf-8') as f:\n",
    "                ls_of_ls_of_c = [list(line.strip()) for line in f]\n",
    "            # 模型训练和保存\n",
    "            model = Word2Vec(ls_of_ls_of_c, config.size, window=config.window, min_count=config.min_count)\n",
    "            model.save(config.model_path)\n",
    "        return cls(config.window, config.topn, model)\n",
    "    \"\"\"古诗词生成\"\"\"\n",
    "    def poem_generator(self, title, form):\n",
    "        # list_of_tuples --> list_of_strings 并过滤标点符号\n",
    "        filter = lambda lst: [t[0] for t in lst if t[0] not in ['，', '。']]\n",
    "        # 标题补全\n",
    "        if len(title) < 4:\n",
    "            if not title:\n",
    "                title += choice(self.chr_dict)\n",
    "            for _ in range(4 - len(title)):\n",
    "                chrs = self.model.similar_by_word(title[-1], self.topn // 2)\n",
    "                chrs = filter(chrs)\n",
    "                char = choice([c for c in chrs if c not in title])\n",
    "                title += char\n",
    "        # 文本生成\n",
    "        seq = list(title)\n",
    "        for i in range(form[0]):\n",
    "            for _ in range(form[1]):\n",
    "                chrs = self.model.predict_output_word(seq[-self.window:], max(self.topn, len(seq) + 1))\n",
    "                chrs = filter(chrs)\n",
    "                char = choice([c for c in chrs if c not in seq[len(title):]])\n",
    "                seq.append(char)\n",
    "            seq.append('，' if i % 2 == 0 else '。')\n",
    "        # 返回标题+主体\n",
    "        length = form[0] * (form[1] + 1)\n",
    "        title = '《%s》' % ''.join(seq[:-length])\n",
    "        poem = ''.join(seq[-length:])\n",
    "        return title + '\\n' + poem"
   ]
  },
  {
   "cell_type": "code",
   "execution_count": 4,
   "metadata": {},
   "outputs": [],
   "source": [
    "form = {'五言绝句': (4, 5), '七言绝句': (4, 7), '对联': (2, 9)}\n",
    "m = Model.initialize(CONF)"
   ]
  },
  {
   "cell_type": "code",
   "execution_count": 5,
   "metadata": {},
   "outputs": [],
   "source": [
    "def poetize(title):\n",
    "    poem = m.poem_generator(title, form['五言绝句'])\n",
    "    print('\\033[031m%s\\033[0m' % poem)  # red\n",
    "    poem = m.poem_generator(title, form['七言绝句'])\n",
    "    print('\\033[033m%s\\033[0m' % poem)  # yellow\n",
    "    poem = m.poem_generator(title, form['对联'])\n",
    "    print('\\033[036m%s\\033[0m' % poem)  # purple"
   ]
  },
  {
   "cell_type": "code",
   "execution_count": 6,
   "metadata": {},
   "outputs": [
    {
     "name": "stdout",
     "output_type": "stream",
     "text": [
      "\u001b[031m《春催迟频》\n",
      "催晓暖睡漏，曙鸡腊残焰。钟候晨烛寒，火暑冬暄温。\u001b[0m\n",
      "\u001b[033m《春梅萸萏》\n",
      "蕊樱枝折红嫩绽，叶香莲摘杏艳粉。丛芳浓蝶花梨蜂，繁蕙蒂灼妒茸槿。\u001b[0m\n",
      "\u001b[036m《春柳袅细》\n",
      "袅柔絮堤细弱丝腰纤，条杨垂绿折软蔓嫩线。\u001b[0m\n"
     ]
    }
   ],
   "source": [
    "poetize('春')"
   ]
  },
  {
   "cell_type": "code",
   "execution_count": 8,
   "metadata": {},
   "outputs": [
    {
     "name": "stdout",
     "output_type": "stream",
     "text": [
      "\u001b[031m《杀破狼擒》\n",
      "狐血狼兵蕃，战军弓豺杀。戈烽戎虏旗，阵营屯矛马。\u001b[0m\n",
      "\u001b[033m《杀破狼狐》\n",
      "猛戈豺虏弓贼军，阵营狼蕃虎铁兵。鼙射马勇防猎烽，蹄戎箭鞍骑旗旆。\u001b[0m\n",
      "\u001b[036m《杀破狼猛》\n",
      "杀妖虏勇狐戈贼狼血，豺弓猛锋兵虎防铁战。\u001b[0m\n"
     ]
    }
   ],
   "source": [
    "poetize('杀破狼')"
   ]
  },
  {
   "cell_type": "code",
   "execution_count": 9,
   "metadata": {},
   "outputs": [
    {
     "name": "stdout",
     "output_type": "stream",
     "text": [
      "\u001b[031m《御剑飞仙》\n",
      "蓬鹤凰羽霄，凤翩翔鹓鸳。凫翼翮鸾雏，矫翅巢雀鸯。\u001b[0m\n",
      "\u001b[033m《御剑飞仙》\n",
      "羽仗鸾霓鹓凤翩，翮双翔鸳飞鹤雏。鹭鹄凰翎翼翅鸯，雀鹦燕鹉鸢乌啄。\u001b[0m\n",
      "\u001b[036m《御剑飞仙》\n",
      "仗列俨旗幢旒彤鸾殿，凤龙羽翔翼彩凰旌翮。\u001b[0m\n"
     ]
    }
   ],
   "source": [
    "poetize('御剑飞仙')"
   ]
  },
  {
   "cell_type": "code",
   "execution_count": 13,
   "metadata": {},
   "outputs": [
    {
     "name": "stdout",
     "output_type": "stream",
     "text": [
      "\u001b[031m《欢尊斟沽》\n",
      "罍饮樽壶觞，酣宴酒醒醉。娱杯欢斟尊，卮瓮筵歌席。\u001b[0m\n",
      "\u001b[033m《欢杯壶缸》\n",
      "宴酒醒杯樽醉劝，饮娱壶欢觞卮罍。酣倾筵席觥酌斟，琴醺瑟醪尊座宾。\u001b[0m\n",
      "\u001b[036m《欢筵宾僚》\n",
      "筵洽宾樽酌宴酒娱杯，席卮酣觞斟饮醉罍劝。\u001b[0m\n"
     ]
    }
   ],
   "source": [
    "poetize('欢')"
   ]
  },
  {
   "cell_type": "code",
   "execution_count": 18,
   "metadata": {},
   "outputs": [
    {
     "name": "stdout",
     "output_type": "stream",
     "text": [
      "\u001b[031m《晚年衰悲》\n",
      "凋冉蹉早倍，跎衰病岁壮。颜憔髭鬓改，容霜筋质肌。\u001b[0m\n",
      "\u001b[033m《晚年时曾》\n",
      "忆记岁他跎蹉早，少鬓年宦壮十昔。悴憔今衰改辛髭，斑叹筋悲咨酸零。\u001b[0m\n",
      "\u001b[036m《晚年蹉跎》\n",
      "悴冉凋跎壮年华蹉憔，宦志叹弱岁辛鬓毛筋。\u001b[0m\n"
     ]
    }
   ],
   "source": [
    "poetize('晚年')"
   ]
  },
  {
   "cell_type": "code",
   "execution_count": 20,
   "metadata": {},
   "outputs": [
    {
     "name": "stdout",
     "output_type": "stream",
     "text": [
      "\u001b[031m《皇妃娥妆》\n",
      "宫女娇殿阿，娃妒母王娥。妆蛾舞眉妃，鬟娟歌艳婵。\u001b[0m\n",
      "\u001b[033m《皇妃珠珑》\n",
      "窕女玉金佩银珮，缕殿珊绣宫钿罗。珠钗裙宝绡蛾脂，妆锦绮翠织袜婵。\u001b[0m\n",
      "\u001b[036m《皇妃娃娇》\n",
      "娇侍玉妃妾钗金佩裙，银妇钿女蛾缕鬟妆娥。\u001b[0m\n"
     ]
    }
   ],
   "source": [
    "poetize('皇妃')"
   ]
  },
  {
   "cell_type": "code",
   "execution_count": 21,
   "metadata": {},
   "outputs": [
    {
     "name": "stdout",
     "output_type": "stream",
     "text": [
      "\u001b[031m《涟漪涵溶》\n",
      "荡澹浩波滟，浪漾涛鳞澜。漪摇鲸舟漂，溟楫钓泊沧。\u001b[0m\n",
      "\u001b[033m《涟漪漾涵》\n",
      "浩渺澜澹泛澄蘋，浪舟扁涛楫波棹。沧钓鳞桡屿鱼船，渔鹢矶漾鲈汀岛。\u001b[0m\n",
      "\u001b[036m《涟漪漾洄》\n",
      "漾舟洄扁桡楫艇泛渔，浦沿岸钓屿汀棹浪沧。\u001b[0m\n"
     ]
    }
   ],
   "source": [
    "poetize('涟漪')"
   ]
  },
  {
   "cell_type": "markdown",
   "metadata": {},
   "source": [
    "## 可视化"
   ]
  },
  {
   "cell_type": "code",
   "execution_count": 1,
   "metadata": {},
   "outputs": [],
   "source": [
    "\"\"\"创建随机数据\"\"\"\n",
    "from random import choice\n",
    "ls_of_ls = [['芝士', '酸奶', '蛋糕', '巧克力', '做', '吃'],\n",
    "            ['文本', '数据', '挖掘', '分析', '做', '玩'],\n",
    "            ['佛山', '广州', '南海', '天河', '吃', '玩']]\n",
    "ls_of_words = []  # 存放分词列表（假设是jieba.lcut后得到的）的列表\n",
    "for i in range(2500):\n",
    "    ls = choice(ls_of_ls)\n",
    "    ls_of_words.append([choice(ls) for _ in range(9, 15)])"
   ]
  },
  {
   "cell_type": "code",
   "execution_count": 2,
   "metadata": {},
   "outputs": [
    {
     "name": "stderr",
     "output_type": "stream",
     "text": [
      "D:\\Software\\Anaconda3\\lib\\site-packages\\gensim\\utils.py:1209: UserWarning: detected Windows; aliasing chunkize to chunkize_serial\n",
      "  warnings.warn(\"detected Windows; aliasing chunkize to chunkize_serial\")\n"
     ]
    }
   ],
   "source": [
    "\"\"\"建模训练\"\"\"\n",
    "from gensim.models import Word2Vec\n",
    "model = Word2Vec(ls_of_words, size=3, window=7)"
   ]
  },
  {
   "cell_type": "code",
   "execution_count": 3,
   "metadata": {},
   "outputs": [
    {
     "name": "stderr",
     "output_type": "stream",
     "text": [
      "D:\\Software\\Anaconda3\\lib\\site-packages\\ipykernel_launcher.py:3: DeprecationWarning: Call to deprecated `__getitem__` (Method will be removed in 4.0.0, use self.wv.__getitem__() instead).\n",
      "  This is separate from the ipykernel package so we can avoid doing imports until\n"
     ]
    }
   ],
   "source": [
    "\"\"\"词向量聚类（基于密度）\"\"\"\n",
    "from sklearn.cluster import DBSCAN\n",
    "vectors = [model[word] for word in model.wv.index2word]\n",
    "labels = DBSCAN(eps=0.24, min_samples=3).fit(vectors).labels_"
   ]
  },
  {
   "cell_type": "code",
   "execution_count": 8,
   "metadata": {},
   "outputs": [
    {
     "data": {
      "image/png": "[encoded data removed]",
      "text/plain": [
       "<Figure size 432x288 with 1 Axes>"
      ]
     },
     "metadata": {},
     "output_type": "display_data"
    }
   ],
   "source": [
    "\"\"\"词向量可视化\"\"\"\n",
    "%matplotlib inline\n",
    "import matplotlib\n",
    "from mpl_toolkits import mplot3d\n",
    "import matplotlib.pyplot as mp\n",
    "mp.rcParams['font.sans-serif'] = ['SimHei']  # 显示中文\n",
    "matplotlib.rcParams['axes.unicode_minus'] = False  # 显示负号\n",
    "fig = mp.figure()\n",
    "ax = mplot3d.Axes3D(fig)  # 创建3d坐标轴\n",
    "colors = ['red', 'blue', 'green', 'black']\n",
    "for word, vector, label in zip(model.wv.index2word, vectors, labels):\n",
    "    ax.scatter(vector[0], vector[1], vector[2], c=colors[label], s=500, alpha=0.4)\n",
    "    ax.text(vector[0], vector[1], vector[2], word, ha='center', va='center')\n",
    "mp.show()"
   ]
  },
  {
   "cell_type": "markdown",
   "metadata": {},
   "source": [
    "## 词矩阵可视化\n",
    "词向量可解释性：`低`"
   ]
  },
  {
   "cell_type": "code",
   "execution_count": 1,
   "metadata": {},
   "outputs": [],
   "source": [
    "from warnings import filterwarnings\n",
    "filterwarnings('ignore')  # 不打印警告\n",
    "%matplotlib inline\n",
    "from gensim.models import Word2Vec\n",
    "from seaborn import heatmap\n",
    "from matplotlib import pyplot as mp\n",
    "from time import time"
   ]
  },
  {
   "cell_type": "code",
   "execution_count": 2,
   "metadata": {},
   "outputs": [],
   "source": [
    "n, m = 10, 1000\n",
    "sentences = [\n",
    "    ''.join(chr(i) for i in range(40, 50)) * n,\n",
    "    ''.join(chr(i) for i in range(50, 60)) * n,\n",
    "    ''.join(chr(i) for i in range(60, 70)) * n,\n",
    "    ''.join(chr(i) for i in range(70, 80)) * n,\n",
    "    ''.join(chr(i) for i in range(80, 90)) * n,\n",
    "] * n * m"
   ]
  },
  {
   "cell_type": "code",
   "execution_count": 3,
   "metadata": {},
   "outputs": [],
   "source": [
    "def matrix(sg, hs):\n",
    "    t = time()\n",
    "    model = Word2Vec(sentences, size=5, window=15, sg=sg, hs=hs, sorted_vocab=0, cbow_mean=0)\n",
    "    print(time() - t)\n",
    "    vectors = model.wv.vectors\n",
    "    heatmap(vectors, center=vectors.max())\n",
    "    mp.show()"
   ]
  },
  {
   "cell_type": "code",
   "execution_count": 4,
   "metadata": {},
   "outputs": [
    {
     "name": "stdout",
     "output_type": "stream",
     "text": [
      "28.57163429260254\n"
     ]
    },
    {
     "data": {
      "image/png": "[encoded data removed]",
      "text/plain": [
       "<Figure size 432x288 with 2 Axes>"
      ]
     },
     "metadata": {},
     "output_type": "display_data"
    }
   ],
   "source": [
    "matrix(0, 0)  # CBOW + negative sampling"
   ]
  },
  {
   "cell_type": "code",
   "execution_count": 5,
   "metadata": {},
   "outputs": [
    {
     "name": "stdout",
     "output_type": "stream",
     "text": [
      "41.85939431190491\n"
     ]
    },
    {
     "data": {
      "image/png": "[encoded data removed]",
      "text/plain": [
       "<Figure size 432x288 with 2 Axes>"
      ]
     },
     "metadata": {},
     "output_type": "display_data"
    }
   ],
   "source": [
    "matrix(0, 1)  # CBOW + hierarchical softmax"
   ]
  },
  {
   "cell_type": "code",
   "execution_count": 6,
   "metadata": {},
   "outputs": [
    {
     "name": "stdout",
     "output_type": "stream",
     "text": [
      "108.22319006919861\n"
     ]
    },
    {
     "data": {
      "image/png": "[encoded data removed]",
      "text/plain": [
       "<Figure size 432x288 with 2 Axes>"
      ]
     },
     "metadata": {},
     "output_type": "display_data"
    }
   ],
   "source": [
    "matrix(1, 0)  # skip-gram + negative sampling"
   ]
  },
  {
   "cell_type": "code",
   "execution_count": 7,
   "metadata": {},
   "outputs": [
    {
     "name": "stdout",
     "output_type": "stream",
     "text": [
      "227.66502165794373\n"
     ]
    },
    {
     "data": {
      "image/png": "[encoded data removed]",
      "text/plain": [
       "<Figure size 432x288 with 2 Axes>"
      ]
     },
     "metadata": {},
     "output_type": "display_data"
    }
   ],
   "source": [
    "matrix(1, 1)  # skip-gram + hierarchical softmax"
   ]
  },
  {
   "cell_type": "markdown",
   "metadata": {},
   "source": [
    "## 字向量"
   ]
  },
  {
   "cell_type": "code",
   "execution_count": 10,
   "metadata": {},
   "outputs": [],
   "source": [
    "from warnings import filterwarnings\n",
    "filterwarnings('ignore')  # 不打印警告\n",
    "from jieba import lcut\n",
    "from gensim.models import Word2Vec\n",
    "import numpy as np"
   ]
  },
  {
   "cell_type": "code",
   "execution_count": 5,
   "metadata": {},
   "outputs": [],
   "source": [
    "def chr2vec(word2vec=False):\n",
    "    with open('news.txt', encoding='utf-8') as f:\n",
    "        sentences = f.read().strip().split('\\n')\n",
    "        if word2vec:\n",
    "            sentences = [lcut(s) for s in sentences]\n",
    "    return Word2Vec(sentences, window=10, min_count=2)"
   ]
  },
  {
   "cell_type": "code",
   "execution_count": 4,
   "metadata": {},
   "outputs": [
    {
     "name": "stderr",
     "output_type": "stream",
     "text": [
      "Building prefix dict from the default dictionary ...\n",
      "Loading model from cache C:\\Users\\ADMINI~1\\AppData\\Local\\Temp\\jieba.cache\n",
      "Loading model cost 6.630 seconds.\n",
      "Prefix dict has been built succesfully.\n"
     ]
    }
   ],
   "source": [
    "w2v = chr2vec(word2vec=True)  # 词向量\n",
    "c2v = chr2vec()  # 字向量"
   ]
  },
  {
   "cell_type": "markdown",
   "metadata": {},
   "source": [
    "### 探究字向量和词向量嘅关系：\n",
    "`冇乜卵关系`"
   ]
  },
  {
   "cell_type": "code",
   "execution_count": 6,
   "metadata": {},
   "outputs": [],
   "source": [
    "get_vector = lambda model, word: model.wv.word_vec(word)\n",
    "cosine_similarity = lambda vec1, vec2: vec1 @ vec2 / (np.linalg.norm(vec1) * np.linalg.norm(vec2))"
   ]
  },
  {
   "cell_type": "code",
   "execution_count": 8,
   "metadata": {},
   "outputs": [],
   "source": [
    "# 字向量和词向量关系函数\n",
    "def relationship(word):\n",
    "    v1 = get_vector(w2v, word)\n",
    "    v2 = np.sum([get_vector(c2v, c) for c in word], axis=0)\n",
    "    print('余弦相似度（字向量相加）', cosine_similarity(v1, v2))\n",
    "    v2 = np.mean([get_vector(c2v, c) for c in word], axis=0)\n",
    "    print('余弦相似度（字向量平均）', cosine_similarity(v1, v2))\n",
    "    print('相近词', w2v.similar_by_word(word, topn=2))\n",
    "    print('相近字')\n",
    "    for char in word:\n",
    "        print(c2v.similar_by_word(char, topn=2))"
   ]
  },
  {
   "cell_type": "code",
   "execution_count": 11,
   "metadata": {},
   "outputs": [
    {
     "name": "stdout",
     "output_type": "stream",
     "text": [
      "余弦相似度（字向量相加） -0.12177007\n",
      "余弦相似度（字向量平均） -0.12177007\n",
      "相近词 [('社交', 0.7450387477874756), ('网站', 0.7172790765762329)]\n",
      "相近字\n",
      "[('朋', 0.6749637722969055), ('谊', 0.5542399883270264)]\n",
      "[('站', 0.7652797698974609), ('友', 0.755022406578064)]\n"
     ]
    }
   ],
   "source": [
    "relationship('网络')"
   ]
  },
  {
   "cell_type": "code",
   "execution_count": 12,
   "metadata": {},
   "outputs": [
    {
     "name": "stdout",
     "output_type": "stream",
     "text": [
      "余弦相似度（字向量相加） 0.13334815\n",
      "余弦相似度（字向量平均） 0.13334815\n",
      "相近词 [('同事', 0.7295631170272827), ('家人', 0.6985358595848083)]\n",
      "相近字\n",
      "[('谊', 0.7704646587371826), ('网', 0.6749637126922607)]\n",
      "[('络', 0.7550224661827087), ('站', 0.597547173500061)]\n"
     ]
    }
   ],
   "source": [
    "relationship('朋友')"
   ]
  },
  {
   "cell_type": "code",
   "execution_count": 13,
   "metadata": {},
   "outputs": [
    {
     "name": "stdout",
     "output_type": "stream",
     "text": [
      "余弦相似度（字向量相加） -0.15604818\n",
      "余弦相似度（字向量平均） -0.15604822\n",
      "相近词 [('飞行', 0.8083478212356567), ('飞机', 0.7219115495681763)]\n",
      "相近字\n",
      "[('械', 0.5537397861480713), ('驶', 0.5382157564163208)]\n",
      "[('促', 0.7393168807029724), ('步', 0.6123121380805969)]\n",
      "[('绎', 0.41976726055145264), ('士', 0.381136953830719)]\n"
     ]
    }
   ],
   "source": [
    "relationship('飞行员')"
   ]
  },
  {
   "cell_type": "markdown",
   "metadata": {},
   "source": [
    "### 文本生成（现代文）\n",
    "效果：`差`"
   ]
  },
  {
   "cell_type": "code",
   "execution_count": 34,
   "metadata": {},
   "outputs": [],
   "source": [
    "def text_generate(text, model, length=25, freedom=10):\n",
    "    from random import choice\n",
    "    seq = lcut(text)\n",
    "    len_origin = len(seq)\n",
    "    for i in range(length):\n",
    "        chrs = model.predict_output_word(seq, max(freedom, len(seq)+1))\n",
    "        char = choice([i[0] for i in chrs if i[0] not in seq[len_origin:]])\n",
    "        seq.append(char)\n",
    "    return ''.join(seq[len_origin:])\n",
    "\n",
    "def generate_compare(text):\n",
    "    try:\n",
    "        print('\\033[035m词向量模型\\033[0m', text_generate(text, w2v), sep='\\n')\n",
    "        print('\\033[035m字向量模型\\033[0m', text_generate(text, c2v), sep='\\n')\n",
    "    except Exception as e:\n",
    "        print(e)"
   ]
  },
  {
   "cell_type": "code",
   "execution_count": 18,
   "metadata": {},
   "outputs": [
    {
     "name": "stdout",
     "output_type": "stream",
     "text": [
      "\u001b[035m词向量模型\u001b[0m\n",
      "帮忙来吃饭去餐厅打电话找哪儿送家里钱房子回家上班打工喝出门出差老人吃陪儿子外出喝酒哥哥\n",
      "\u001b[035m字向量模型\u001b[0m\n",
      "他寻找们起踪到回想我来忆追悅麼羸婺颚看跟砾跄獾蛳捋\n"
     ]
    }
   ],
   "source": [
    "generate_compare('找女朋友')"
   ]
  },
  {
   "cell_type": "code",
   "execution_count": 35,
   "metadata": {},
   "outputs": [
    {
     "name": "stdout",
     "output_type": "stream",
     "text": [
      "\u001b[035m词向量模型\u001b[0m\n",
      "身穿高圆圆身着唐嫣西装刘亦菲倪妮印花刘诗晏裙甜美高跟鞋外套皮草长裙蕾丝大衣粉色风衣性感白色黑色围巾镂空\n",
      "'NoneType' object is not iterable\n"
     ]
    }
   ],
   "source": [
    "generate_compare('范冰冰')"
   ]
  },
  {
   "cell_type": "code",
   "execution_count": 36,
   "metadata": {},
   "outputs": [
    {
     "name": "stdout",
     "output_type": "stream",
     "text": [
      "\u001b[035m词向量模型\u001b[0m\n",
      "成绩文化课初试历年考研考试大纲申论真题试题复习科目试卷备考专业课测试国考考点选择题统考答题托福听力考查题型\n",
      "'NoneType' object is not iterable\n"
     ]
    }
   ],
   "source": [
    "generate_compare('学业水平考试')"
   ]
  }
 ],
 "metadata": {
  "kernelspec": {
   "display_name": "Python 3",
   "language": "python",
   "name": "python3"
  },
  "language_info": {
   "codemirror_mode": {
    "name": "ipython",
    "version": 3
   },
   "file_extension": ".py",
   "mimetype": "text/x-python",
   "name": "python",
   "nbconvert_exporter": "python",
   "pygments_lexer": "ipython3",
   "version": "3.6.8"
  }
 },
 "nbformat": 4,
 "nbformat_minor": 2
}
