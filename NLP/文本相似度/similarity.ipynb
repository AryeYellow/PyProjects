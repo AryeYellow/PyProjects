{
 "cells": [
  {
   "cell_type": "markdown",
   "metadata": {},
   "source": [
    "# Python相似度计算\n",
    "https://blog.csdn.net/Yellow_python/article/details/81069692"
   ]
  },
  {
   "cell_type": "code",
   "execution_count": 1,
   "metadata": {},
   "outputs": [],
   "source": [
    "from warnings import filterwarnings\n",
    "filterwarnings('ignore')  # 不打印警告\n",
    "import numpy as np\n",
    "from pandas import DataFrame"
   ]
  },
  {
   "cell_type": "markdown",
   "metadata": {},
   "source": [
    "# 语料"
   ]
  },
  {
   "cell_type": "code",
   "execution_count": 2,
   "metadata": {},
   "outputs": [],
   "source": [
    "poem1 = '''《将进酒》——李白\n",
    "君不见黄河之水天上来，奔流到海不复回。君不见高堂明镜悲白发，朝如青丝暮成雪。\n",
    "人生得意须尽欢，莫使金樽空对月。天生我材必有用，千金散尽还复来。\n",
    "烹羊宰牛且为乐，会须一饮三百杯。岑夫子，丹丘生，将进酒，杯莫停。与君歌一曲，请君为我倾耳听。\n",
    "钟鼓馔玉不足贵，但愿长醉不复醒。古来圣贤皆寂寞，惟有饮者留其名。\n",
    "陈王昔时宴平乐，斗酒十千恣欢谑。主人何为言少钱，径须沽取对君酌。\n",
    "五花马，千金裘，呼儿将出换美酒，与尔同销万古愁。'''.replace('\\n', '')\n",
    "poem2 = '''《惜樽空》——李白\n",
    "君不见黄河之水天上来，奔流到海不复回。君不见床头明镜悲白发，朝如青云暮成雪。\n",
    "人生得意须尽欢，莫使金樽空对月。天生吾徒有俊才，千金散尽还复来。\n",
    "烹羊宰牛且为乐，会须一饮三百杯。岑夫子，丹丘生，与君哥一曲，请君为我倾。\n",
    "钟鼓玉帛岂足贵，但用长醉不复醒。古来贤圣皆死尽，惟有饮者留其名。\n",
    "陈王昔时宴平乐，斗酒十千恣欢谑。主人何为言少钱，径须沽取对君酌。\n",
    "五花马，千金裘，呼儿将出换美酒，与尔同销万古愁。'''.replace('\\n', '')\n",
    "ls1, ls2 = list(poem1), list(poem2)"
   ]
  },
  {
   "cell_type": "markdown",
   "metadata": {},
   "source": [
    "# 交集 / 并集"
   ]
  },
  {
   "cell_type": "code",
   "execution_count": 3,
   "metadata": {},
   "outputs": [
    {
     "data": {
      "text/plain": [
       "0.8311688311688312"
      ]
     },
     "execution_count": 3,
     "metadata": {},
     "output_type": "execute_result"
    }
   ],
   "source": [
    "s1, s2 = set(ls1), set(ls2)\n",
    "len(s1 & s2) / len(s1 | s2)"
   ]
  },
  {
   "cell_type": "markdown",
   "metadata": {},
   "source": [
    "# 编辑距离"
   ]
  },
  {
   "cell_type": "code",
   "execution_count": 4,
   "metadata": {},
   "outputs": [
    {
     "data": {
      "text/html": [
       "<div>\n",
       "<style scoped>\n",
       "    .dataframe tbody tr th:only-of-type {\n",
       "        vertical-align: middle;\n",
       "    }\n",
       "\n",
       "    .dataframe tbody tr th {\n",
       "        vertical-align: top;\n",
       "    }\n",
       "\n",
       "    .dataframe thead th {\n",
       "        text-align: right;\n",
       "    }\n",
       "</style>\n",
       "<table border=\"1\" class=\"dataframe\">\n",
       "  <thead>\n",
       "    <tr style=\"text-align: right;\">\n",
       "      <th></th>\n",
       "      <th></th>\n",
       "      <th>b</th>\n",
       "      <th>c</th>\n",
       "      <th>d</th>\n",
       "      <th>e</th>\n",
       "    </tr>\n",
       "  </thead>\n",
       "  <tbody>\n",
       "    <tr>\n",
       "      <th></th>\n",
       "      <td>0</td>\n",
       "      <td>1</td>\n",
       "      <td>2</td>\n",
       "      <td>3</td>\n",
       "      <td>4</td>\n",
       "    </tr>\n",
       "    <tr>\n",
       "      <th>a</th>\n",
       "      <td>1</td>\n",
       "      <td>1</td>\n",
       "      <td>2</td>\n",
       "      <td>3</td>\n",
       "      <td>4</td>\n",
       "    </tr>\n",
       "    <tr>\n",
       "      <th>b</th>\n",
       "      <td>2</td>\n",
       "      <td>1</td>\n",
       "      <td>2</td>\n",
       "      <td>3</td>\n",
       "      <td>4</td>\n",
       "    </tr>\n",
       "    <tr>\n",
       "      <th>c</th>\n",
       "      <td>3</td>\n",
       "      <td>2</td>\n",
       "      <td>1</td>\n",
       "      <td>2</td>\n",
       "      <td>3</td>\n",
       "    </tr>\n",
       "  </tbody>\n",
       "</table>\n",
       "</div>"
      ],
      "text/plain": [
       "      b  c  d  e\n",
       "   0  1  2  3  4\n",
       "a  1  1  2  3  4\n",
       "b  2  1  2  3  4\n",
       "c  3  2  1  2  3"
      ]
     },
     "execution_count": 4,
     "metadata": {},
     "output_type": "execute_result"
    }
   ],
   "source": [
    "def edit_distance_matrix(s1, s2):\n",
    "    l1, l2 = len(s1) + 1, len(s2) + 1\n",
    "    matrix = [[0 for j in range(l2)] for i in range(l1)]\n",
    "    for i in range(l1):\n",
    "        matrix[i][0] = i\n",
    "    for j in range(l2):\n",
    "        matrix[0][j] = j\n",
    "    for i in range(1, l1):\n",
    "        for j in range(1, l2):\n",
    "            delta = 0 if s1[i - 1] == s2[j - 1] else 1\n",
    "            matrix[i][j] = min(matrix[i - 1][j - 1] + delta,\n",
    "                               matrix[i - 1][j] + 1,\n",
    "                               matrix[i][j - 1] + 1)\n",
    "    return DataFrame(matrix, list(' ' + s1), list(' ' + s2))\n",
    "edit_distance_matrix('abc', 'bcde')"
   ]
  },
  {
   "cell_type": "markdown",
   "metadata": {},
   "source": [
    "#### 基于编辑距离的相似度百分比"
   ]
  },
  {
   "cell_type": "code",
   "execution_count": 5,
   "metadata": {},
   "outputs": [
    {
     "data": {
      "text/plain": [
       "30"
      ]
     },
     "execution_count": 5,
     "metadata": {},
     "output_type": "execute_result"
    }
   ],
   "source": [
    "def edit_distance(s1, s2):\n",
    "    l1, l2 = len(s1) + 1, len(s2) + 1\n",
    "    matrix = np.zeros((l1, l2), dtype=int)\n",
    "    for i in range(l1):\n",
    "        matrix[i, 0] = i\n",
    "    for j in range(l2):\n",
    "        matrix[0, j] = j\n",
    "    for i in range(1, l1):\n",
    "        for j in range(1, l2):\n",
    "            delta = 0 if s1[i - 1] == s2[j - 1] else 1\n",
    "            matrix[i, j] = min(matrix[i - 1, j - 1] + delta,\n",
    "                               matrix[i - 1, j] + 1,\n",
    "                               matrix[i, j - 1] + 1)\n",
    "    return matrix[-1, -1]\n",
    "edit_distance(poem1, poem2)"
   ]
  },
  {
   "cell_type": "code",
   "execution_count": 6,
   "metadata": {},
   "outputs": [
    {
     "data": {
      "text/plain": [
       "0.8557692307692308"
      ]
     },
     "execution_count": 6,
     "metadata": {},
     "output_type": "execute_result"
    }
   ],
   "source": [
    "1 - edit_distance(poem1, poem2) / (len(poem1 + poem2) / 2)"
   ]
  },
  {
   "cell_type": "markdown",
   "metadata": {},
   "source": [
    "## 欧氏距离 余弦距离"
   ]
  },
  {
   "cell_type": "code",
   "execution_count": 7,
   "metadata": {},
   "outputs": [],
   "source": [
    "word2id = {w: i for i, w in enumerate(set(ls1 + ls2))}\n",
    "length = len(word2id)\n",
    "vec1, vec2 = np.zeros(length), np.zeros(length)\n",
    "for w in ls1:\n",
    "    vec1[word2id[w]] += 1\n",
    "for w in ls2:\n",
    "    vec2[word2id[w]] += 1"
   ]
  },
  {
   "cell_type": "markdown",
   "metadata": {},
   "source": [
    "#### 欧氏距离"
   ]
  },
  {
   "cell_type": "code",
   "execution_count": 8,
   "metadata": {},
   "outputs": [
    {
     "data": {
      "text/plain": [
       "6.782329983125268"
      ]
     },
     "execution_count": 8,
     "metadata": {},
     "output_type": "execute_result"
    }
   ],
   "source": [
    "np.linalg.norm(vec1 - vec2)  # np.sqrt(np.sum(np.square(vec1 - vec2)))"
   ]
  },
  {
   "cell_type": "markdown",
   "metadata": {},
   "source": [
    "#### 余弦距离"
   ]
  },
  {
   "cell_type": "code",
   "execution_count": 9,
   "metadata": {},
   "outputs": [
    {
     "data": {
      "text/plain": [
       "0.031974483907780904"
      ]
     },
     "execution_count": 9,
     "metadata": {},
     "output_type": "execute_result"
    }
   ],
   "source": [
    "1 - vec1 @ vec2 / (np.linalg.norm(vec1) * np.linalg.norm(vec2))"
   ]
  },
  {
   "cell_type": "markdown",
   "metadata": {},
   "source": [
    "#### 调包实现"
   ]
  },
  {
   "cell_type": "code",
   "execution_count": 10,
   "metadata": {},
   "outputs": [
    {
     "name": "stdout",
     "output_type": "stream",
     "text": [
      "[[6.78232998]]\n",
      "[[0.03197448]]\n"
     ]
    }
   ],
   "source": [
    "from sklearn.feature_extraction.text import CountVectorizer\n",
    "from sklearn.metrics.pairwise import euclidean_distances, cosine_distances\n",
    "vec1, vec2 = CountVectorizer(token_pattern='.').fit_transform([poem1, poem2])\n",
    "print(euclidean_distances(vec1, vec2))\n",
    "print(cosine_distances(vec1, vec2))"
   ]
  },
  {
   "cell_type": "markdown",
   "metadata": {},
   "source": [
    "# 最长公共子串\n",
    "Longest Common Substring"
   ]
  },
  {
   "cell_type": "code",
   "execution_count": 11,
   "metadata": {},
   "outputs": [
    {
     "data": {
      "text/html": [
       "<div>\n",
       "<style scoped>\n",
       "    .dataframe tbody tr th:only-of-type {\n",
       "        vertical-align: middle;\n",
       "    }\n",
       "\n",
       "    .dataframe tbody tr th {\n",
       "        vertical-align: top;\n",
       "    }\n",
       "\n",
       "    .dataframe thead th {\n",
       "        text-align: right;\n",
       "    }\n",
       "</style>\n",
       "<table border=\"1\" class=\"dataframe\">\n",
       "  <thead>\n",
       "    <tr style=\"text-align: right;\">\n",
       "      <th></th>\n",
       "      <th></th>\n",
       "      <th>a</th>\n",
       "      <th>b</th>\n",
       "      <th>c</th>\n",
       "      <th>d</th>\n",
       "      <th>e</th>\n",
       "    </tr>\n",
       "  </thead>\n",
       "  <tbody>\n",
       "    <tr>\n",
       "      <th></th>\n",
       "      <td>0</td>\n",
       "      <td>0</td>\n",
       "      <td>0</td>\n",
       "      <td>0</td>\n",
       "      <td>0</td>\n",
       "      <td>0</td>\n",
       "    </tr>\n",
       "    <tr>\n",
       "      <th>c</th>\n",
       "      <td>0</td>\n",
       "      <td>0</td>\n",
       "      <td>0</td>\n",
       "      <td>1</td>\n",
       "      <td>0</td>\n",
       "      <td>0</td>\n",
       "    </tr>\n",
       "    <tr>\n",
       "      <th>d</th>\n",
       "      <td>0</td>\n",
       "      <td>0</td>\n",
       "      <td>0</td>\n",
       "      <td>0</td>\n",
       "      <td>2</td>\n",
       "      <td>0</td>\n",
       "    </tr>\n",
       "    <tr>\n",
       "      <th>e</th>\n",
       "      <td>0</td>\n",
       "      <td>0</td>\n",
       "      <td>0</td>\n",
       "      <td>0</td>\n",
       "      <td>0</td>\n",
       "      <td>3</td>\n",
       "    </tr>\n",
       "    <tr>\n",
       "      <th>f</th>\n",
       "      <td>0</td>\n",
       "      <td>0</td>\n",
       "      <td>0</td>\n",
       "      <td>0</td>\n",
       "      <td>0</td>\n",
       "      <td>0</td>\n",
       "    </tr>\n",
       "  </tbody>\n",
       "</table>\n",
       "</div>"
      ],
      "text/plain": [
       "      a  b  c  d  e\n",
       "   0  0  0  0  0  0\n",
       "c  0  0  0  1  0  0\n",
       "d  0  0  0  0  2  0\n",
       "e  0  0  0  0  0  3\n",
       "f  0  0  0  0  0  0"
      ]
     },
     "execution_count": 11,
     "metadata": {},
     "output_type": "execute_result"
    }
   ],
   "source": [
    "def lcs_matrix(s1, s2):\n",
    "    l1, l2 = len(s1), len(s2)\n",
    "    matrix = [[0 for j in range(l2 + 1)] for i in range(l1 + 1)]\n",
    "    for i in range(l1):\n",
    "        for j in range(l2):\n",
    "            if s1[i] == s2[j]:\n",
    "                matrix[i + 1][j + 1] = matrix[i][j] + 1\n",
    "    return DataFrame(matrix, list(' ' + s1), list(' ' + s2))\n",
    "lcs_matrix('cdef', 'abcde')"
   ]
  },
  {
   "cell_type": "code",
   "execution_count": 12,
   "metadata": {},
   "outputs": [
    {
     "name": "stdout",
     "output_type": "stream",
     "text": [
      "，惟有饮者留其名。陈王昔时宴平乐，斗酒十千恣欢谑。主人何为言少钱，径须沽取对君酌。五花马，千金裘，呼儿将出换美酒，与尔同销万古愁。\n"
     ]
    }
   ],
   "source": [
    "def lcs(s1, s2):\n",
    "    l1, l2 = len(s1), len(s2)\n",
    "    matrix = np.zeros((l1 + 1, l2 + 1), dtype=int)\n",
    "    max_len = 0  # 最长匹配的长度\n",
    "    p = 0  # 最长匹配对应在s1中的最后一位\n",
    "    for i in range(len(s1)):\n",
    "        for j in range(len(s2)):\n",
    "            if s1[i] == s2[j]:\n",
    "                matrix[i + 1, j+1] = matrix[i, j] + 1\n",
    "                max_len, p = max([(max_len, p), (matrix[i + 1, j + 1], i + 1)])\n",
    "    return s1[p - max_len: p]  # 返回最长子串及其长度\n",
    "print(lcs(poem1, poem2))"
   ]
  },
  {
   "cell_type": "markdown",
   "metadata": {},
   "source": [
    "# 最长公共子序列\n",
    "The longest common subsequence"
   ]
  },
  {
   "cell_type": "code",
   "execution_count": 13,
   "metadata": {},
   "outputs": [],
   "source": [
    "s1, s2 = 'ab_abc', 'abc_bcd'\n",
    "l1, l2 = len(s1), len(s2)\n",
    "# 生成字符串长度+1的零矩阵，保存对应位置匹配的结果\n",
    "m = [[0 for j in range(l2 + 1)] for i in range(l1 + 1)]\n",
    "# 记录转移方向\n",
    "d = [['' for j in range(l2 + 1)] for i in range(l1 + 1)]\n",
    "for p1 in range(l1):\n",
    "    for p2 in range(l2):\n",
    "        # 字符匹配成功，则该位置的值为左上方的值加1\n",
    "        if s1[p1] == s2[p2]:\n",
    "            m[p1 + 1][p2 + 1] = m[p1][p2] + 1\n",
    "            d[p1 + 1][p2 + 1] = 'ok'\n",
    "        # 左值大于上值，则该位置的值为左值，并标记回溯时的方向\n",
    "        elif m[p1 + 1][p2] > m[p1][p2 + 1]:\n",
    "            m[p1 + 1][p2 + 1] = m[p1 + 1][p2]\n",
    "            d[p1 + 1][p2 + 1] = '←'\n",
    "        # 上值大于左值，则该位置的值为上值，并标记方向↑\n",
    "        else:\n",
    "            m[p1 + 1][p2 + 1] = m[p1][p2 + 1]\n",
    "            d[p1 + 1][p2 + 1] = '↑'"
   ]
  },
  {
   "cell_type": "code",
   "execution_count": 14,
   "metadata": {},
   "outputs": [
    {
     "data": {
      "text/html": [
       "<div>\n",
       "<style scoped>\n",
       "    .dataframe tbody tr th:only-of-type {\n",
       "        vertical-align: middle;\n",
       "    }\n",
       "\n",
       "    .dataframe tbody tr th {\n",
       "        vertical-align: top;\n",
       "    }\n",
       "\n",
       "    .dataframe thead th {\n",
       "        text-align: right;\n",
       "    }\n",
       "</style>\n",
       "<table border=\"1\" class=\"dataframe\">\n",
       "  <thead>\n",
       "    <tr style=\"text-align: right;\">\n",
       "      <th></th>\n",
       "      <th></th>\n",
       "      <th>a</th>\n",
       "      <th>b</th>\n",
       "      <th>c</th>\n",
       "      <th>_</th>\n",
       "      <th>b</th>\n",
       "      <th>c</th>\n",
       "      <th>d</th>\n",
       "    </tr>\n",
       "  </thead>\n",
       "  <tbody>\n",
       "    <tr>\n",
       "      <th></th>\n",
       "      <td>0</td>\n",
       "      <td>0</td>\n",
       "      <td>0</td>\n",
       "      <td>0</td>\n",
       "      <td>0</td>\n",
       "      <td>0</td>\n",
       "      <td>0</td>\n",
       "      <td>0</td>\n",
       "    </tr>\n",
       "    <tr>\n",
       "      <th>a</th>\n",
       "      <td>0</td>\n",
       "      <td>1</td>\n",
       "      <td>1</td>\n",
       "      <td>1</td>\n",
       "      <td>1</td>\n",
       "      <td>1</td>\n",
       "      <td>1</td>\n",
       "      <td>1</td>\n",
       "    </tr>\n",
       "    <tr>\n",
       "      <th>b</th>\n",
       "      <td>0</td>\n",
       "      <td>1</td>\n",
       "      <td>2</td>\n",
       "      <td>2</td>\n",
       "      <td>2</td>\n",
       "      <td>2</td>\n",
       "      <td>2</td>\n",
       "      <td>2</td>\n",
       "    </tr>\n",
       "    <tr>\n",
       "      <th>_</th>\n",
       "      <td>0</td>\n",
       "      <td>1</td>\n",
       "      <td>2</td>\n",
       "      <td>2</td>\n",
       "      <td>3</td>\n",
       "      <td>3</td>\n",
       "      <td>3</td>\n",
       "      <td>3</td>\n",
       "    </tr>\n",
       "    <tr>\n",
       "      <th>a</th>\n",
       "      <td>0</td>\n",
       "      <td>1</td>\n",
       "      <td>2</td>\n",
       "      <td>2</td>\n",
       "      <td>3</td>\n",
       "      <td>3</td>\n",
       "      <td>3</td>\n",
       "      <td>3</td>\n",
       "    </tr>\n",
       "    <tr>\n",
       "      <th>b</th>\n",
       "      <td>0</td>\n",
       "      <td>1</td>\n",
       "      <td>2</td>\n",
       "      <td>2</td>\n",
       "      <td>3</td>\n",
       "      <td>4</td>\n",
       "      <td>4</td>\n",
       "      <td>4</td>\n",
       "    </tr>\n",
       "    <tr>\n",
       "      <th>c</th>\n",
       "      <td>0</td>\n",
       "      <td>1</td>\n",
       "      <td>2</td>\n",
       "      <td>3</td>\n",
       "      <td>3</td>\n",
       "      <td>4</td>\n",
       "      <td>5</td>\n",
       "      <td>5</td>\n",
       "    </tr>\n",
       "  </tbody>\n",
       "</table>\n",
       "</div>"
      ],
      "text/plain": [
       "      a  b  c  _  b  c  d\n",
       "   0  0  0  0  0  0  0  0\n",
       "a  0  1  1  1  1  1  1  1\n",
       "b  0  1  2  2  2  2  2  2\n",
       "_  0  1  2  2  3  3  3  3\n",
       "a  0  1  2  2  3  3  3  3\n",
       "b  0  1  2  2  3  4  4  4\n",
       "c  0  1  2  3  3  4  5  5"
      ]
     },
     "execution_count": 14,
     "metadata": {},
     "output_type": "execute_result"
    }
   ],
   "source": [
    "DataFrame(m, list(' ' + s1), list(' ' + s2))"
   ]
  },
  {
   "cell_type": "code",
   "execution_count": 15,
   "metadata": {},
   "outputs": [
    {
     "data": {
      "text/html": [
       "<div>\n",
       "<style scoped>\n",
       "    .dataframe tbody tr th:only-of-type {\n",
       "        vertical-align: middle;\n",
       "    }\n",
       "\n",
       "    .dataframe tbody tr th {\n",
       "        vertical-align: top;\n",
       "    }\n",
       "\n",
       "    .dataframe thead th {\n",
       "        text-align: right;\n",
       "    }\n",
       "</style>\n",
       "<table border=\"1\" class=\"dataframe\">\n",
       "  <thead>\n",
       "    <tr style=\"text-align: right;\">\n",
       "      <th></th>\n",
       "      <th></th>\n",
       "      <th>a</th>\n",
       "      <th>b</th>\n",
       "      <th>c</th>\n",
       "      <th>_</th>\n",
       "      <th>b</th>\n",
       "      <th>c</th>\n",
       "      <th>d</th>\n",
       "    </tr>\n",
       "  </thead>\n",
       "  <tbody>\n",
       "    <tr>\n",
       "      <th></th>\n",
       "      <td></td>\n",
       "      <td></td>\n",
       "      <td></td>\n",
       "      <td></td>\n",
       "      <td></td>\n",
       "      <td></td>\n",
       "      <td></td>\n",
       "      <td></td>\n",
       "    </tr>\n",
       "    <tr>\n",
       "      <th>a</th>\n",
       "      <td></td>\n",
       "      <td>ok</td>\n",
       "      <td>←</td>\n",
       "      <td>←</td>\n",
       "      <td>←</td>\n",
       "      <td>←</td>\n",
       "      <td>←</td>\n",
       "      <td>←</td>\n",
       "    </tr>\n",
       "    <tr>\n",
       "      <th>b</th>\n",
       "      <td></td>\n",
       "      <td>↑</td>\n",
       "      <td>ok</td>\n",
       "      <td>←</td>\n",
       "      <td>←</td>\n",
       "      <td>ok</td>\n",
       "      <td>←</td>\n",
       "      <td>←</td>\n",
       "    </tr>\n",
       "    <tr>\n",
       "      <th>_</th>\n",
       "      <td></td>\n",
       "      <td>↑</td>\n",
       "      <td>↑</td>\n",
       "      <td>↑</td>\n",
       "      <td>ok</td>\n",
       "      <td>←</td>\n",
       "      <td>←</td>\n",
       "      <td>←</td>\n",
       "    </tr>\n",
       "    <tr>\n",
       "      <th>a</th>\n",
       "      <td></td>\n",
       "      <td>ok</td>\n",
       "      <td>↑</td>\n",
       "      <td>↑</td>\n",
       "      <td>↑</td>\n",
       "      <td>↑</td>\n",
       "      <td>↑</td>\n",
       "      <td>↑</td>\n",
       "    </tr>\n",
       "    <tr>\n",
       "      <th>b</th>\n",
       "      <td></td>\n",
       "      <td>↑</td>\n",
       "      <td>ok</td>\n",
       "      <td>↑</td>\n",
       "      <td>↑</td>\n",
       "      <td>ok</td>\n",
       "      <td>←</td>\n",
       "      <td>←</td>\n",
       "    </tr>\n",
       "    <tr>\n",
       "      <th>c</th>\n",
       "      <td></td>\n",
       "      <td>↑</td>\n",
       "      <td>↑</td>\n",
       "      <td>ok</td>\n",
       "      <td>↑</td>\n",
       "      <td>↑</td>\n",
       "      <td>ok</td>\n",
       "      <td>←</td>\n",
       "    </tr>\n",
       "  </tbody>\n",
       "</table>\n",
       "</div>"
      ],
      "text/plain": [
       "      a   b   c   _   b   c  d\n",
       "                              \n",
       "a    ok   ←   ←   ←   ←   ←  ←\n",
       "b     ↑  ok   ←   ←  ok   ←  ←\n",
       "_     ↑   ↑   ↑  ok   ←   ←  ←\n",
       "a    ok   ↑   ↑   ↑   ↑   ↑  ↑\n",
       "b     ↑  ok   ↑   ↑  ok   ←  ←\n",
       "c     ↑   ↑  ok   ↑   ↑  ok  ←"
      ]
     },
     "execution_count": 15,
     "metadata": {},
     "output_type": "execute_result"
    }
   ],
   "source": [
    "DataFrame(d, list(' ' + s1), list(' ' + s2))"
   ]
  },
  {
   "cell_type": "code",
   "execution_count": 16,
   "metadata": {},
   "outputs": [
    {
     "name": "stdout",
     "output_type": "stream",
     "text": [
      "《》——李白君不见黄河之水天上来，奔流到海不复回。君不见明镜悲白发，朝如青暮成雪。人生得意须尽欢，莫使金樽空对月。天生有，千金散尽还复来。烹羊宰牛且为乐，会须一饮三百杯。岑夫子，丹丘生，与君一曲，请君为我倾。钟鼓玉足贵，但长醉不复醒。古来圣皆，惟有饮者留其名。陈王昔时宴平乐，斗酒十千恣欢谑。主人何为言少钱，径须沽取对君酌。五花马，千金裘，呼儿将出换美酒，与尔同销万古愁。\n"
     ]
    }
   ],
   "source": [
    "def lcs(s1, s2):\n",
    "    l1, l2 = len(s1), len(s2)\n",
    "    # 生成字符串长度+1的零矩阵，保存对应位置匹配的结果\n",
    "    m = np.zeros((l1 + 1, l2 + 1))\n",
    "    # 记录转移方向\n",
    "    d = np.empty_like(m, dtype=str)\n",
    "    for i in range(l1):\n",
    "        for j in range(l2):\n",
    "            # 字符匹配成功，则该位置的值为左上方的值加1\n",
    "            if s1[i] == s2[j]:\n",
    "                m[i + 1, j + 1] = m[i, j] + 1\n",
    "                d[i + 1, j + 1] = 'O'\n",
    "            # 左值大于上值，则该位置的值为左值，并标记回溯时的方向\n",
    "            elif m[i + 1, j] > m[i, j + 1]:\n",
    "                m[i + 1, j + 1] = m[i + 1, j]\n",
    "                d[i + 1, j + 1] = '←'\n",
    "            # 上值大于左值，则该位置的值为上值，并标记方向↑\n",
    "            else:\n",
    "                m[i + 1, j + 1] = m[i, j + 1]\n",
    "                d[i + 1, j + 1] = '↑'\n",
    "    s = []\n",
    "    while m[l1, l2]:  # 不为空时\n",
    "        c = d[l1, l2]\n",
    "        if c == 'O':  # 匹配成功，插入该字符，并向左上角找下一个\n",
    "            s.append(s1[l1 - 1])\n",
    "            l1 -= 1\n",
    "            l2 -= 1\n",
    "        if c == '←':  # 根据标记，向左找下一个\n",
    "            l2 -= 1\n",
    "        if c == '↑':  # 根据标记，向上找下一个\n",
    "            l1 -= 1\n",
    "    s.reverse()\n",
    "    return ''.join(s)\n",
    "print(lcs(poem1, poem2))"
   ]
  },
  {
   "cell_type": "markdown",
   "metadata": {},
   "source": [
    "# TfIdf文本相似度"
   ]
  },
  {
   "cell_type": "markdown",
   "metadata": {},
   "source": [
    "#### 语料加载"
   ]
  },
  {
   "cell_type": "code",
   "execution_count": 17,
   "metadata": {},
   "outputs": [],
   "source": [
    "with open('古诗.txt', encoding='utf-8') as f:\n",
    "    seqs = f.read().split()\n",
    "q_ls = [i.split('|')[1] for i in seqs]\n",
    "a_ls = [i.split('|')[0] for i in seqs]"
   ]
  },
  {
   "cell_type": "markdown",
   "metadata": {},
   "source": [
    "#### 训练tfidf向量转换器"
   ]
  },
  {
   "cell_type": "code",
   "execution_count": 18,
   "metadata": {},
   "outputs": [
    {
     "data": {
      "text/plain": [
       "array([[0.90681949]])"
      ]
     },
     "execution_count": 18,
     "metadata": {},
     "output_type": "execute_result"
    }
   ],
   "source": [
    "from sklearn.feature_extraction.text import TfidfVectorizer\n",
    "from sklearn.metrics.pairwise import cosine_similarity\n",
    "vectorizer = TfidfVectorizer(token_pattern='.')\n",
    "vectorizer.fit(q_ls)\n",
    "vec1, vec2 = vectorizer.transform([poem1, poem2])\n",
    "cosine_similarity(vec1, vec2)"
   ]
  },
  {
   "cell_type": "code",
   "execution_count": 19,
   "metadata": {},
   "outputs": [
    {
     "name": "stdout",
     "output_type": "stream",
     "text": [
      "输入：请君为我倾耳听\n",
      "0 将进酒(李白)\n",
      "输入：钟鼓馔玉不足贵\n",
      "0 将进酒(李白)\n",
      "输入：但愿长醉不复醒\n",
      "0 将进酒(李白)\n",
      "输入：钟鼓玉帛岂足贵\n",
      "0 惜樽空(李白)\n",
      "输入：但用长醉不复醒\n",
      "0 惜樽空(李白)\n"
     ]
    }
   ],
   "source": [
    "X = vectorizer.transform(q_ls)\n",
    "def ask(q, n=1):\n",
    "    q = vectorizer.transform([q])  # tfidf向量化\n",
    "    indexs = cosine_similarity(X, q).reshape(-1)  # 余弦相似度\n",
    "    indexs = np.argsort(-indexs)  # 按索引倒排\n",
    "    return [a_ls[i] for i in indexs[:n]]\n",
    "for _ in range(5):\n",
    "    q = input('输入：').strip()\n",
    "    for e, i in enumerate(ask(q)):\n",
    "        print(e, i)"
   ]
  },
  {
   "cell_type": "markdown",
   "metadata": {},
   "source": [
    "# 词向量文本相似度"
   ]
  },
  {
   "cell_type": "code",
   "execution_count": 20,
   "metadata": {},
   "outputs": [],
   "source": [
    "from gensim.models import Word2Vec\n",
    "ls_of_words = [list(i) for i in q_ls]\n",
    "model = Word2Vec(ls_of_words)\n",
    "w2i = {w: i for i, w in enumerate(model.wv.index2word, 1)}\n",
    "vectors = np.concatenate((np.zeros((1, 100)), model.wv.vectors), axis=0)\n",
    "w2v = lambda w: vectors[w2i.get(w, 0)]"
   ]
  },
  {
   "cell_type": "code",
   "execution_count": 21,
   "metadata": {},
   "outputs": [],
   "source": [
    "vec1 = np.mean([w2v(w) for w in poem1], axis=0)\n",
    "vec2 = np.mean([w2v(w) for w in poem2], axis=0)"
   ]
  },
  {
   "cell_type": "code",
   "execution_count": 22,
   "metadata": {},
   "outputs": [
    {
     "name": "stdout",
     "output_type": "stream",
     "text": [
      "[[0.99998519]]\n"
     ]
    },
    {
     "data": {
      "text/plain": [
       "0.9999851879273223"
      ]
     },
     "execution_count": 22,
     "metadata": {},
     "output_type": "execute_result"
    }
   ],
   "source": [
    "print(cosine_similarity([vec1], [vec2]))\n",
    "vec1 @ vec2 / (np.linalg.norm(vec1) * np.linalg.norm(vec2))"
   ]
  }
 ],
 "metadata": {
  "kernelspec": {
   "display_name": "Python 3",
   "language": "python",
   "name": "python3"
  },
  "language_info": {
   "codemirror_mode": {
    "name": "ipython",
    "version": 3
   },
   "file_extension": ".py",
   "mimetype": "text/x-python",
   "name": "python",
   "nbconvert_exporter": "python",
   "pygments_lexer": "ipython3",
   "version": "3.6.8"
  }
 },
 "nbformat": 4,
 "nbformat_minor": 2
}
