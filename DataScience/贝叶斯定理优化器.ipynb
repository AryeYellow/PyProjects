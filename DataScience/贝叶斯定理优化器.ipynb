{
 "cells": [
  {
   "cell_type": "markdown",
   "metadata": {},
   "source": [
    "# Bayesian Optimization\n",
    "https://github.com/fmfn/BayesianOptimization"
   ]
  },
  {
   "cell_type": "code",
   "execution_count": 1,
   "metadata": {},
   "outputs": [],
   "source": [
    "from warnings import filterwarnings\n",
    "filterwarnings('ignore')  # 不打印警告\n",
    "import numpy as np\n",
    "from matplotlib import pyplot as mp\n",
    "%matplotlib inline\n",
    "np.random.seed(0)"
   ]
  },
  {
   "cell_type": "markdown",
   "metadata": {},
   "source": [
    "# 基本用法\n",
    "https://github.com/fmfn/BayesianOptimization/blob/master/examples/visualization.ipynb"
   ]
  },
  {
   "cell_type": "markdown",
   "metadata": {},
   "source": [
    "#### 安装\n",
    "pip install bayesian-optimization"
   ]
  },
  {
   "cell_type": "code",
   "execution_count": 2,
   "metadata": {},
   "outputs": [],
   "source": [
    "from bayes_opt import BayesianOptimization"
   ]
  },
  {
   "cell_type": "markdown",
   "metadata": {},
   "source": [
    "#### 目标函数\n",
    "$ f(x, y) = 1 - x^2 - (y - 1)^2 $"
   ]
  },
  {
   "cell_type": "code",
   "execution_count": 3,
   "metadata": {},
   "outputs": [],
   "source": [
    "f = lambda x, y: 1 - x ** 2 - (y - 1) ** 2"
   ]
  },
  {
   "cell_type": "markdown",
   "metadata": {},
   "source": [
    "#### 参数范围"
   ]
  },
  {
   "cell_type": "code",
   "execution_count": 4,
   "metadata": {},
   "outputs": [],
   "source": [
    "pbounds = {'x': (-1, 4), 'y': (-3, 3)}  # Bounded region of parameter space"
   ]
  },
  {
   "cell_type": "markdown",
   "metadata": {},
   "source": [
    "#### 创建优化器"
   ]
  },
  {
   "cell_type": "code",
   "execution_count": 5,
   "metadata": {},
   "outputs": [],
   "source": [
    "optimizer = BayesianOptimization(f=f, pbounds=pbounds)"
   ]
  },
  {
   "cell_type": "markdown",
   "metadata": {},
   "source": [
    "#### 优化"
   ]
  },
  {
   "cell_type": "code",
   "execution_count": 6,
   "metadata": {},
   "outputs": [
    {
     "name": "stdout",
     "output_type": "stream",
     "text": [
      "|   iter    |  target   |     x     |     y     |\n",
      "-------------------------------------------------\n",
      "| \u001b[0m 1       \u001b[0m | \u001b[0m-8.883   \u001b[0m | \u001b[0m-0.9299  \u001b[0m | \u001b[0m-2.003   \u001b[0m |\n",
      "| \u001b[95m 2       \u001b[0m | \u001b[95m 0.7738  \u001b[0m | \u001b[95m 0.1734  \u001b[0m | \u001b[95m 1.443   \u001b[0m |\n",
      "| \u001b[0m 3       \u001b[0m | \u001b[0m-0.05796 \u001b[0m | \u001b[0m 0.5309  \u001b[0m | \u001b[0m 1.881   \u001b[0m |\n",
      "| \u001b[0m 4       \u001b[0m | \u001b[0m 0.4119  \u001b[0m | \u001b[0m-0.2153  \u001b[0m | \u001b[0m 1.736   \u001b[0m |\n",
      "| \u001b[95m 5       \u001b[0m | \u001b[95m 0.9339  \u001b[0m | \u001b[95m-0.2568  \u001b[0m | \u001b[95m 0.9899  \u001b[0m |\n",
      "| \u001b[0m 6       \u001b[0m | \u001b[0m 0.6482  \u001b[0m | \u001b[0m 0.4986  \u001b[0m | \u001b[0m 0.6788  \u001b[0m |\n",
      "| \u001b[0m 7       \u001b[0m | \u001b[0m-2.19    \u001b[0m | \u001b[0m 1.779   \u001b[0m | \u001b[0m 0.841   \u001b[0m |\n",
      "| \u001b[0m 8       \u001b[0m | \u001b[0m 0.6725  \u001b[0m | \u001b[0m-0.05958 \u001b[0m | \u001b[0m 0.4308  \u001b[0m |\n",
      "| \u001b[0m 9       \u001b[0m | \u001b[0m-0.004328\u001b[0m | \u001b[0m-1.0     \u001b[0m | \u001b[0m 1.066   \u001b[0m |\n",
      "| \u001b[0m 10      \u001b[0m | \u001b[0m-31.0    \u001b[0m | \u001b[0m 4.0     \u001b[0m | \u001b[0m-3.0     \u001b[0m |\n",
      "=================================================\n"
     ]
    }
   ],
   "source": [
    "optimizer.maximize(init_points=3, n_iter=7)"
   ]
  },
  {
   "cell_type": "markdown",
   "metadata": {},
   "source": [
    "#### 结果"
   ]
  },
  {
   "cell_type": "code",
   "execution_count": 8,
   "metadata": {},
   "outputs": [
    {
     "data": {
      "text/plain": [
       "[{'target': -8.883353398300128,\n",
       "  'params': {'x': -0.9298568422167244, 'y': -2.0031183212259336}},\n",
       " {'target': 0.773827821237246,\n",
       "  'params': {'x': 0.1733803324412544, 'y': 1.4428447121568846}},\n",
       " {'target': -0.057955383613888856,\n",
       "  'params': {'x': 0.5309167680987894, 'y': 1.8809555998831184}},\n",
       " {'target': 0.41190288251496376,\n",
       "  'params': {'x': -0.21534651286065887, 'y': 1.7360183400458105}},\n",
       " {'target': 0.9339288459782804,\n",
       "  'params': {'x': -0.25684360952250557, 'y': 0.989875066954772}},\n",
       " {'target': 0.6482354744434342,\n",
       "  'params': {'x': 0.49860226972980015, 'y': 0.6788142248217436}},\n",
       " {'target': -2.1900750759403977,\n",
       "  'params': {'x': 1.7789903370425315, 'y': 0.8410394493916877}},\n",
       " {'target': 0.6724500805542406,\n",
       "  'params': {'x': -0.05958475232290208, 'y': 0.4307903929690067}},\n",
       " {'target': -0.0043281566081576975,\n",
       "  'params': {'x': -1.0, 'y': 1.0657887270598672}},\n",
       " {'target': -31.0, 'params': {'x': 4.0, 'y': -3.0}}]"
      ]
     },
     "execution_count": 8,
     "metadata": {},
     "output_type": "execute_result"
    }
   ],
   "source": [
    "optimizer.res"
   ]
  },
  {
   "cell_type": "code",
   "execution_count": 7,
   "metadata": {},
   "outputs": [
    {
     "data": {
      "text/plain": [
       "{'target': 0.9339288459782804,\n",
       " 'params': {'x': -0.25684360952250557, 'y': 0.989875066954772}}"
      ]
     },
     "execution_count": 7,
     "metadata": {},
     "output_type": "execute_result"
    }
   ],
   "source": [
    "optimizer.max"
   ]
  },
  {
   "cell_type": "code",
   "execution_count": 9,
   "metadata": {},
   "outputs": [
    {
     "data": {
      "text/plain": [
       "array([-8.88335340e+00,  7.73827821e-01, -5.79553836e-02,  4.11902883e-01,\n",
       "        9.33928846e-01,  6.48235474e-01, -2.19007508e+00,  6.72450081e-01,\n",
       "       -4.32815661e-03, -3.10000000e+01])"
      ]
     },
     "execution_count": 9,
     "metadata": {},
     "output_type": "execute_result"
    }
   ],
   "source": [
    "optimizer.space.target"
   ]
  },
  {
   "cell_type": "code",
   "execution_count": 10,
   "metadata": {},
   "outputs": [
    {
     "data": {
      "text/plain": [
       "4"
      ]
     },
     "execution_count": 10,
     "metadata": {},
     "output_type": "execute_result"
    }
   ],
   "source": [
    "optimizer.space.target.argmax()"
   ]
  },
  {
   "cell_type": "markdown",
   "metadata": {},
   "source": [
    "# 结合sklearn\n",
    "https://github.com/fmfn/BayesianOptimization/blob/master/examples/sklearn_example.py"
   ]
  },
  {
   "cell_type": "code",
   "execution_count": 1,
   "metadata": {},
   "outputs": [
    {
     "name": "stdout",
     "output_type": "stream",
     "text": [
      "|   iter    |  target   |     C     |   gamma   |\n",
      "-------------------------------------------------\n",
      "| \u001b[0m 1       \u001b[0m | \u001b[0m 0.8053  \u001b[0m | \u001b[0m 8.984   \u001b[0m | \u001b[0m 0.03623 \u001b[0m |\n",
      "| \u001b[95m 2       \u001b[0m | \u001b[95m 0.8093  \u001b[0m | \u001b[95m 3.71    \u001b[0m | \u001b[95m 0.0846  \u001b[0m |\n",
      "| \u001b[0m 3       \u001b[0m | \u001b[0m 0.7924  \u001b[0m | \u001b[0m 7.566   \u001b[0m | \u001b[0m 0.01803 \u001b[0m |\n",
      "| \u001b[0m 4       \u001b[0m | \u001b[0m 0.6582  \u001b[0m | \u001b[0m 1.453   \u001b[0m | \u001b[0m 0.01816 \u001b[0m |\n",
      "| \u001b[0m 5       \u001b[0m | \u001b[0m 0.7933  \u001b[0m | \u001b[0m 2.716   \u001b[0m | \u001b[0m 0.02867 \u001b[0m |\n",
      "| \u001b[0m 6       \u001b[0m | \u001b[0m 0.5036  \u001b[0m | \u001b[0m 10.0    \u001b[0m | \u001b[0m 0.0001  \u001b[0m |\n",
      "| \u001b[0m 7       \u001b[0m | \u001b[0m 0.5036  \u001b[0m | \u001b[0m 0.01    \u001b[0m | \u001b[0m 0.1     \u001b[0m |\n",
      "| \u001b[0m 8       \u001b[0m | \u001b[0m 0.5036  \u001b[0m | \u001b[0m 5.46    \u001b[0m | \u001b[0m 0.0001  \u001b[0m |\n",
      "| \u001b[0m 9       \u001b[0m | \u001b[0m 0.808   \u001b[0m | \u001b[0m 8.278   \u001b[0m | \u001b[0m 0.1     \u001b[0m |\n",
      "| \u001b[0m 10      \u001b[0m | \u001b[0m 0.5036  \u001b[0m | \u001b[0m 8.402   \u001b[0m | \u001b[0m 0.0001  \u001b[0m |\n",
      "| \u001b[0m 11      \u001b[0m | \u001b[0m 0.808   \u001b[0m | \u001b[0m 6.522   \u001b[0m | \u001b[0m 0.1     \u001b[0m |\n",
      "| \u001b[0m 12      \u001b[0m | \u001b[0m 0.8067  \u001b[0m | \u001b[0m 4.539   \u001b[0m | \u001b[0m 0.1     \u001b[0m |\n",
      "| \u001b[0m 13      \u001b[0m | \u001b[0m 0.5036  \u001b[0m | \u001b[0m 0.7376  \u001b[0m | \u001b[0m 0.0001  \u001b[0m |\n",
      "| \u001b[0m 14      \u001b[0m | \u001b[0m 0.8071  \u001b[0m | \u001b[0m 2.12    \u001b[0m | \u001b[0m 0.1     \u001b[0m |\n",
      "| \u001b[0m 15      \u001b[0m | \u001b[0m 0.8089  \u001b[0m | \u001b[0m 9.437   \u001b[0m | \u001b[0m 0.1     \u001b[0m |\n",
      "=================================================\n",
      "Best result: {'target': 0.8093333333333333, 'params': {'C': 3.709584138875576, 'gamma': 0.08459699681061882}}\n",
      "0.8093333333333333\n",
      "0.8186666666666667\n",
      "0.8093333333333333\n",
      "0.8186666666666667\n",
      "0.8115555555555556\n",
      "0.828\n"
     ]
    }
   ],
   "source": [
    "from warnings import filterwarnings\n",
    "filterwarnings('ignore')  # 不打印警告\n",
    "from sklearn.datasets import make_circles\n",
    "from sklearn.model_selection import train_test_split\n",
    "from sklearn.svm import SVC\n",
    "from bayes_opt import BayesianOptimization\n",
    "\n",
    "\n",
    "ls_of_clf = []\n",
    "\n",
    "\n",
    "def load_data():\n",
    "    X, y = make_circles(n_samples=3000, noise=.3, factor=.4)\n",
    "    X_train, X_test, y_train, y_test = train_test_split(X, y)\n",
    "    return X_train, y_train, X_test, y_test\n",
    "\n",
    "\n",
    "def score(X, y, C, gamma):\n",
    "    clf = SVC(C=C, gamma=gamma).fit(X, y)\n",
    "    ls_of_clf.append(clf)\n",
    "    return clf.score(X, y)\n",
    "\n",
    "\n",
    "def best_clf(X, y):\n",
    "    f = lambda C, gamma: score(X, y, C, gamma)\n",
    "    pbounds = {'C': (1e-2, 1e1), 'gamma': (1e-4, 1e-1)}\n",
    "    optimizer = BayesianOptimization(f, pbounds)\n",
    "    optimizer.maximize(n_iter=10)\n",
    "    print('Best result:', optimizer.max)\n",
    "    idx = optimizer.space.target.argmax()\n",
    "    return ls_of_clf[idx], optimizer.max['params']\n",
    "\n",
    "\n",
    "X_train, y_train, X_test, y_test = load_data()\n",
    "clf, params = best_clf(X_train, y_train)\n",
    "print(clf.score(X_train, y_train))\n",
    "print(clf.score(X_test, y_test))\n",
    "print(SVC(**params).fit(X_train, y_train).score(X_train, y_train))\n",
    "print(SVC(**params).fit(X_train, y_train).score(X_test, y_test))\n",
    "print(SVC().fit(X_train, y_train).score(X_train, y_train))\n",
    "print(SVC().fit(X_train, y_train).score(X_test, y_test))"
   ]
  }
 ],
 "metadata": {
  "kernelspec": {
   "display_name": "Python 3",
   "language": "python",
   "name": "python3"
  },
  "language_info": {
   "codemirror_mode": {
    "name": "ipython",
    "version": 3
   },
   "file_extension": ".py",
   "mimetype": "text/x-python",
   "name": "python",
   "nbconvert_exporter": "python",
   "pygments_lexer": "ipython3",
   "version": "3.6.8"
  }
 },
 "nbformat": 4,
 "nbformat_minor": 2
}
